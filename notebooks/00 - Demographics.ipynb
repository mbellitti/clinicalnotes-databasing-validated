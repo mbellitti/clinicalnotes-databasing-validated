{
 "cells": [
  {
   "cell_type": "markdown",
   "metadata": {},
   "source": [
    "# Utilities\n",
    "This section contains functions we need later."
   ]
  },
  {
   "cell_type": "code",
   "execution_count": 79,
   "metadata": {},
   "outputs": [],
   "source": [
    "import polars as pl\n",
    "import polars.selectors as cs\n",
    "import re\n",
    "from pathlib import Path\n",
    "import matplotlib.pyplot as plt\n",
    "\n",
    "import seaborn as sns\n",
    "sns.set_style('whitegrid')"
   ]
  },
  {
   "cell_type": "code",
   "execution_count": 2,
   "metadata": {},
   "outputs": [],
   "source": [
    "def extract_id(s) -> int:\n",
    "    # Extract VAC from string\n",
    "    match = re.search(r'(\\d+)', s)\n",
    "\n",
    "    if match is None:\n",
    "        raise ValueError(f\"Could not match ID from {s}\")\n",
    "    else:\n",
    "        return int(match.group(1)) \n",
    "\n",
    "def parse_enum_string(s: str):\n",
    "    parts = re.split(r'(?=\\d+\\.)', s)  # split before occurrences like \"1.\"\n",
    "    result = {}\n",
    "    for part in parts:\n",
    "        m = re.match(r'\\s*(\\d+)\\.\\s*(.*)', part)\n",
    "        if m:\n",
    "            key = int(m.group(1))\n",
    "            value = m.group(2).strip()\n",
    "            if value:\n",
    "                result[key] = value\n",
    "    return result\n",
    "\n",
    "\n",
    "def rename_code_columns(s: str):\n",
    "    parts = re.split(r'(?=\\d+\\.)', s)  # split before occurrences like \"1.\"\n",
    "    matches = re.findall(r'(_\\d)',s)\n",
    "\n",
    "    if len(matches) > 0:\n",
    "        num = matches[-1]\n",
    "    else:\n",
    "        num = ''\n",
    "\n",
    "    if parts:\n",
    "        return parts[0].strip() + num\n",
    "    else:\n",
    "        return s + num"
   ]
  },
  {
   "cell_type": "code",
   "execution_count": 3,
   "metadata": {},
   "outputs": [],
   "source": [
    "# renaming scheme for the columns in the excel sheet to a more usable format, removing the data dictionary from column name and disambiguating duplicated columns\n",
    "\n",
    "rename_map = {\n",
    "    'VAC': 'VAC',\n",
    "    'Data collection by': 'data_collector',\n",
    "    '# Appts: 1,2,3,4,5,6, NA (duplicate)': 'num_appts',\n",
    "    'Age At Consult': 'age_at_consult',\n",
    "    'Year of Birth': 'year_of_birth',\n",
    "    'sex': 'sex',\n",
    "    'Educ Yrs': 'education_years',\n",
    "    'Race 1.Caucasian 2. Africanamerican 3. Asian 4.other': 'race',\n",
    "    'ethnicity 0.non hispanic 1.hispanic': 'ethnicity',\n",
    "    'occupation 1. working 2. retired 3. unemployed': 'occupation',\n",
    "    'Marital status 1. Single never married 2. married 3. divorced/widowed': 'marital_status',\n",
    "    'living situation 1. Alone 2. Family 3. CRC 4. ALF 5. NH 6. inpatient': 'living_situation',\n",
    "    'aPET 0. No 1. Yes': 'apet',\n",
    "    'Date Performed': 'date_performed',\n",
    "    '# of visits until PET ordered': 'visits_until_pet',\n",
    "    'PET result 1.Normal 2.Abnormal': 'pet_result',\n",
    "    '1st Appt Date': 'appt_date_1',\n",
    "    'MOCA': 'moca_1',\n",
    "    't-MOCA': 'tmoca_1',\n",
    "    'Function 1.independent 2. dep any iADLs 3. dependent all iADLs 4.  dep any bADLs 5. dependent all bADLs ': 'function_1',\n",
    "    'Behavioral disturbance 0. No 1. Yes (anger, irritability, disinhibition)': 'behavioral_disturbance_1',\n",
    "    'Cognitive syndrome 1st 1.Unimpaired 2.SCD 3. MCI 4. Dementia': 'cognitive_syndrome_1',\n",
    "    'NBSE Date': 'nbse_date',\n",
    "    'Second visit date': 'fu_date_2',\n",
    "    'MoCA': 'moca_2',\n",
    "    't-MOCA_1': 'tmoca_2',\n",
    "    'Function 1.independent 2. dep any iADLs 3. dependent all iADLs 4.  dep any bADLs 5. dependent all bADLs _1': 'function_2',\n",
    "    'Behavioral disturbance 0.No 1.Yes': 'behavioral_disturbance_2',\n",
    "    'Cognitive syndrome 2nd 1.Unimpaired 2.SCD 3. MCI 4. Dementia': 'cognitive_syndrome_2',\n",
    "    'Medication Change 0.No 1.Yes': 'med_change_1',\n",
    "    'Living situation change 0.No 1.Yes': 'living_situation_change_1',\n",
    "    \"DC'd 0.no 1.yes\": 'discharged_1',\n",
    "    '3rd Visit': 'fu_date_3',\n",
    "    'MOCA Total': 'moca_3',\n",
    "    't-MOCA_2': 'tmoca_3',\n",
    "    'Function 1.independent 2. dep any iADLs 3. dependent all iADLs 4.  dep any bADLs 5. dependent all bADLs _2': 'function_3',\n",
    "    'Behavioral disturbance  0.No 1.Yes': 'behavioral_disturbance_3',\n",
    "    'Cognitive syndrome 1st 1.Unimpaired 2.SCD 3. MCI 4. Dementia_1': 'cognitive_syndrome_3',\n",
    "    'Med Change 0.No 1.Yes': 'med_change_2',\n",
    "    'Living situation change 0.No 1.Yes_1': 'living_situation_change_2',\n",
    "    \"DC'd 0.no 1.yes_1\": 'discharged_2',\n",
    "    'Fourth fu date': 'fu_date_4',\n",
    "    'MOCA Total_1': 'moca_4',\n",
    "    't-MoCA': 'tmoca_4',\n",
    "    'Function 1.independent 2. dep any iADLs 3. dependent all iADLs 4.  dep any bADLs 5. dependent all bADLs _3': 'function_4',\n",
    "    'Behavioral disturbance  0.No 1.Yes_1': 'behavioral_disturbance_4',\n",
    "    'Cognitive syndrome 1st 1.Unimpaired 2.SCD 3. MCI 4. Dementia_2': 'cognitive_syndrome_4',\n",
    "    'Med Change 0.No 1.Yes_1': 'med_change_3',\n",
    "    'Living situation change 0.No 1.Yes_2': 'living_situation_change_3',\n",
    "    'Discharged0.no 1.yes': 'discharged_3',\n",
    "    'Fifth fu date': 'fu_date_5',\n",
    "    'MOCA Total_2': 'moca_5',\n",
    "    't-MoCA_1': 'tmoca_5',\n",
    "    'Function 1.independent 2. dep any iADLs 3. dependent all iADLs 4.  dep any bADLs 5. dependent all bADLs _4': 'function_5',\n",
    "    'Behavioral disturbance  0.No 1.Yes_2': 'behavioral_disturbance_5',\n",
    "    'Cognitive syndrome 1st 1.Unimpaired 2.SCD 3. MCI 4. Dementia_3': 'cognitive_syndrome_5',\n",
    "    'Medication Change 0.No 1.Yes_1': 'med_change_4',\n",
    "    'Living situation change 0.No 1.Yes_3': 'living_situation_change_4',\n",
    "    'Discharged0.no 1.yes_1': 'discharged_4',\n",
    "    'Sixth fu date': 'fu_date_6',\n",
    "    'MOCA_1': 'moca_6',\n",
    "    't-MOCA_3': 'tmoca_6',\n",
    "    'Function 1.independent 2. dep any iADLs 3. dependent all iADLs 4.  dep any bADLs 5. dependent all bADLs _5': 'function_6',\n",
    "    'Behavioral disturbance  0.No 1.Yes_3': 'behavioral_disturbance_6',\n",
    "    'Cognitive syndrome 1st 1.Unimpaired 2.SCD 3. MCI 4. Dementia_4': 'cognitive_syndrome_6',\n",
    "    'Med Change 0.No 1.Yes_2': 'med_change_5',\n",
    "    'Living Situation Changed 0. No 1. Yes': 'living_situation_change_5',\n",
    "    'Discharged0.no 1.yes_2': 'discharged_5',\n",
    "}\n",
    "\n"
   ]
  },
  {
   "cell_type": "markdown",
   "metadata": {},
   "source": [
    "# Load Data"
   ]
  },
  {
   "cell_type": "code",
   "execution_count": 4,
   "metadata": {},
   "outputs": [],
   "source": [
    "clinical_path = Path('/projectnb/vkolagrp/bellitti/clinicalnotes-databasing-validated/data/LLM study spreadsheet_Extended_2025.06.23.xlsx')\n",
    "\n",
    "clinical = pl.read_excel(clinical_path,infer_schema_length=None).with_columns(\n",
    "    pl.col('VAC').map_elements(extract_id,return_dtype=pl.Int64).alias('VAC')\n",
    ")\n",
    "\n",
    "columns_with_codes = clinical.select(\n",
    "    cs.contains('.')\n",
    ").columns\n",
    "\n",
    "# this maps a column name to the data dictionary for that column, useful to make values readable\n",
    "value_mapping = {rename_map[col]:parse_enum_string(col) for col in columns_with_codes}"
   ]
  },
  {
   "cell_type": "code",
   "execution_count": 5,
   "metadata": {},
   "outputs": [],
   "source": [
    "full_reports_stats_path = Path('/projectnb/vkolagrp/bellitti/clinicalnotes-databasing-validated/results/full_reports.parquet')\n",
    "full_reports = pl.read_parquet(full_reports_stats_path)\n",
    "\n",
    "nbse_tabulated_path = Path('/projectnb/vkolagrp/bellitti/clinicalnotes-databasing-validated/results/NBSE_tabulated.parquet')\n",
    "nbse_tabulated = pl.read_parquet(nbse_tabulated_path)"
   ]
  },
  {
   "cell_type": "code",
   "execution_count": 6,
   "metadata": {},
   "outputs": [],
   "source": [
    "clinical_clean_names = clinical.rename(rename_map).with_columns(\n",
    "    pl.col(\"age_at_consult\").cast(pl.Int64),\n",
    "    pl.col('education_years').str.extract(r'(\\d+)').cast(pl.Int64)\n",
    ")"
   ]
  },
  {
   "cell_type": "markdown",
   "metadata": {},
   "source": [
    "Merge the Excel spreadsheet and the tabular information extracted from the NBSEs:"
   ]
  },
  {
   "cell_type": "code",
   "execution_count": 53,
   "metadata": {},
   "outputs": [],
   "source": [
    "# inner join, keep intersection NBSE^Excel\n",
    "df_inner = clinical_clean_names.join(nbse_tabulated,how='inner',on='VAC',suffix='_extracted')\n",
    "\n",
    "# right join, keep all NBSE\n",
    "df_nbse = clinical_clean_names.join(nbse_tabulated,how='right',on='VAC',suffix='_extracted')"
   ]
  },
  {
   "cell_type": "markdown",
   "metadata": {},
   "source": [
    "VAC that have and NBSE but do not appear in the spreadsheet:"
   ]
  },
  {
   "cell_type": "code",
   "execution_count": 54,
   "metadata": {},
   "outputs": [],
   "source": [
    "nbse_tabulated.join(clinical_clean_names,how='anti',on='VAC');"
   ]
  },
  {
   "cell_type": "markdown",
   "metadata": {},
   "source": [
    "# Sex"
   ]
  },
  {
   "cell_type": "code",
   "execution_count": 55,
   "metadata": {},
   "outputs": [
    {
     "data": {
      "text/html": [
       "<div><style>\n",
       ".dataframe > thead > tr,\n",
       ".dataframe > tbody > tr {\n",
       "  text-align: right;\n",
       "  white-space: pre-wrap;\n",
       "}\n",
       "</style>\n",
       "<small>shape: (9, 4)</small><table border=\"1\" class=\"dataframe\"><thead><tr><th>sex</th><th>sex_extracted</th><th>count</th><th>percent</th></tr><tr><td>str</td><td>str</td><td>u32</td><td>f64</td></tr></thead><tbody><tr><td>&quot;M&quot;</td><td>&quot;male&quot;</td><td>1536</td><td>86.1</td></tr><tr><td>null</td><td>&quot;male&quot;</td><td>141</td><td>7.9</td></tr><tr><td>&quot;F&quot;</td><td>&quot;female&quot;</td><td>69</td><td>3.87</td></tr><tr><td>&quot;M&quot;</td><td>null</td><td>26</td><td>1.46</td></tr><tr><td>null</td><td>&quot;female&quot;</td><td>8</td><td>0.45</td></tr><tr><td>&quot;F&quot;</td><td>&quot;male&quot;</td><td>1</td><td>0.06</td></tr><tr><td>&quot;M&quot;</td><td>&quot;female&quot;</td><td>1</td><td>0.06</td></tr><tr><td>&quot;TGF&quot;</td><td>&quot;female&quot;</td><td>1</td><td>0.06</td></tr><tr><td>&quot;F&quot;</td><td>null</td><td>1</td><td>0.06</td></tr></tbody></table></div>"
      ],
      "text/plain": [
       "shape: (9, 4)\n",
       "┌──────┬───────────────┬───────┬─────────┐\n",
       "│ sex  ┆ sex_extracted ┆ count ┆ percent │\n",
       "│ ---  ┆ ---           ┆ ---   ┆ ---     │\n",
       "│ str  ┆ str           ┆ u32   ┆ f64     │\n",
       "╞══════╪═══════════════╪═══════╪═════════╡\n",
       "│ M    ┆ male          ┆ 1536  ┆ 86.1    │\n",
       "│ null ┆ male          ┆ 141   ┆ 7.9     │\n",
       "│ F    ┆ female        ┆ 69    ┆ 3.87    │\n",
       "│ M    ┆ null          ┆ 26    ┆ 1.46    │\n",
       "│ null ┆ female        ┆ 8     ┆ 0.45    │\n",
       "│ F    ┆ male          ┆ 1     ┆ 0.06    │\n",
       "│ M    ┆ female        ┆ 1     ┆ 0.06    │\n",
       "│ TGF  ┆ female        ┆ 1     ┆ 0.06    │\n",
       "│ F    ┆ null          ┆ 1     ┆ 0.06    │\n",
       "└──────┴───────────────┴───────┴─────────┘"
      ]
     },
     "execution_count": 55,
     "metadata": {},
     "output_type": "execute_result"
    }
   ],
   "source": [
    "df_inner.select(cs.contains(\"sex\")).select(\n",
    "    pl.struct(\n",
    "        pl.col(\"sex\").str.strip_chars().str.to_uppercase(), \"sex_extracted\"\n",
    "    ).value_counts()\n",
    ").unnest(\"sex\").sort(\"count\", descending=True).unnest(\"sex\").with_columns(\n",
    "    (100 * pl.col(\"count\") / pl.col(\"count\").sum()).round(2).alias('percent')\n",
    ")\n"
   ]
  },
  {
   "cell_type": "code",
   "execution_count": 64,
   "metadata": {},
   "outputs": [
    {
     "data": {
      "text/html": [
       "<div><style>\n",
       ".dataframe > thead > tr,\n",
       ".dataframe > tbody > tr {\n",
       "  text-align: right;\n",
       "  white-space: pre-wrap;\n",
       "}\n",
       "</style>\n",
       "<small>shape: (3, 3)</small><table border=\"1\" class=\"dataframe\"><thead><tr><th>sex_extracted</th><th>count</th><th>percent</th></tr><tr><td>str</td><td>u32</td><td>f64</td></tr></thead><tbody><tr><td>&quot;male&quot;</td><td>1751</td><td>94.24</td></tr><tr><td>null</td><td>28</td><td>1.51</td></tr><tr><td>&quot;female&quot;</td><td>79</td><td>4.25</td></tr></tbody></table></div>"
      ],
      "text/plain": [
       "shape: (3, 3)\n",
       "┌───────────────┬───────┬─────────┐\n",
       "│ sex_extracted ┆ count ┆ percent │\n",
       "│ ---           ┆ ---   ┆ ---     │\n",
       "│ str           ┆ u32   ┆ f64     │\n",
       "╞═══════════════╪═══════╪═════════╡\n",
       "│ male          ┆ 1751  ┆ 94.24   │\n",
       "│ null          ┆ 28    ┆ 1.51    │\n",
       "│ female        ┆ 79    ┆ 4.25    │\n",
       "└───────────────┴───────┴─────────┘"
      ]
     },
     "execution_count": 64,
     "metadata": {},
     "output_type": "execute_result"
    }
   ],
   "source": [
    "df_nbse.select('sex_extracted').select(pl.col('sex_extracted').value_counts()).unnest('sex_extracted').with_columns(\n",
    "    (100*pl.col('count')/pl.col('count').sum()).round(2).alias('percent')\n",
    ")"
   ]
  },
  {
   "cell_type": "markdown",
   "metadata": {},
   "source": [
    "# Age"
   ]
  },
  {
   "cell_type": "code",
   "execution_count": 99,
   "metadata": {},
   "outputs": [
    {
     "data": {
      "text/html": [
       "<div><style>\n",
       ".dataframe > thead > tr,\n",
       ".dataframe > tbody > tr {\n",
       "  text-align: right;\n",
       "  white-space: pre-wrap;\n",
       "}\n",
       "</style>\n",
       "<small>shape: (21, 1)</small><table border=\"1\" class=\"dataframe\"><thead><tr><th>age_nbse_minus_consult</th></tr><tr><td>struct[2]</td></tr></thead><tbody><tr><td>{-10,2}</td></tr><tr><td>{-6,1}</td></tr><tr><td>{-5,1}</td></tr><tr><td>{-3,1}</td></tr><tr><td>{-2,10}</td></tr><tr><td>&hellip;</td></tr><tr><td>{10,2}</td></tr><tr><td>{11,1}</td></tr><tr><td>{12,1}</td></tr><tr><td>{25,1}</td></tr><tr><td>{null,833}</td></tr></tbody></table></div>"
      ],
      "text/plain": [
       "shape: (21, 1)\n",
       "┌────────────────────────┐\n",
       "│ age_nbse_minus_consult │\n",
       "│ ---                    │\n",
       "│ struct[2]              │\n",
       "╞════════════════════════╡\n",
       "│ {-10,2}                │\n",
       "│ {-6,1}                 │\n",
       "│ {-5,1}                 │\n",
       "│ {-3,1}                 │\n",
       "│ {-2,10}                │\n",
       "│ …                      │\n",
       "│ {10,2}                 │\n",
       "│ {11,1}                 │\n",
       "│ {12,1}                 │\n",
       "│ {25,1}                 │\n",
       "│ {null,833}             │\n",
       "└────────────────────────┘"
      ]
     },
     "execution_count": 99,
     "metadata": {},
     "output_type": "execute_result"
    },
    {
     "data": {
      "image/png": "[encoded data removed]",
      "text/plain": [
       "<Figure size 300x300 with 1 Axes>"
      ]
     },
     "metadata": {},
     "output_type": "display_data"
    }
   ],
   "source": [
    "_df = df_nbse.with_columns(\n",
    "    (pl.col('age') - pl.col('age_at_consult')).alias('age_nbse_minus_consult')\n",
    ").sort('age_nbse_minus_consult',nulls_last=True)\n",
    "\n",
    "fig, ax = plt.subplots(1,1,figsize=(3,3))\n",
    "\n",
    "sns.histplot(\n",
    "    _df.to_pandas(),\n",
    "    x='age_nbse_minus_consult'\n",
    ")\n",
    "\n",
    "_df.select(pl.col('age_nbse_minus_consult').value_counts())"
   ]
  },
  {
   "cell_type": "code",
   "execution_count": 87,
   "metadata": {},
   "outputs": [
    {
     "data": {
      "text/plain": [
       "<matplotlib.lines.AxLine at 0x147bbb32fb00>"
      ]
     },
     "execution_count": 87,
     "metadata": {},
     "output_type": "execute_result"
    },
    {
     "data": {
      "image/png": "[encoded data removed]",
      "text/plain": [
       "<Figure size 300x300 with 1 Axes>"
      ]
     },
     "metadata": {},
     "output_type": "display_data"
    }
   ],
   "source": [
    "fig, ax = plt.subplots(1,1,figsize=(3,3))\n",
    "\n",
    "sns.scatterplot(\n",
    "    df_nbse.to_pandas(),\n",
    "    x='age_at_consult',\n",
    "    y='age',\n",
    "    ax=ax\n",
    ")\n",
    "\n",
    "ax.set_xlabel('Age at Consult (years)')\n",
    "ax.set_ylabel('Age at NBSE (years)')\n",
    "ax.axline((40,40),(90,90),color='black',linestyle='--')"
   ]
  },
  {
   "cell_type": "code",
   "execution_count": 110,
   "metadata": {},
   "outputs": [
    {
     "data": {
      "text/html": [
       "<div><style>\n",
       ".dataframe > thead > tr,\n",
       ".dataframe > tbody > tr {\n",
       "  text-align: right;\n",
       "  white-space: pre-wrap;\n",
       "}\n",
       "</style>\n",
       "<small>shape: (9, 2)</small><table border=\"1\" class=\"dataframe\"><thead><tr><th>statistic</th><th>age</th></tr><tr><td>str</td><td>f64</td></tr></thead><tbody><tr><td>&quot;count&quot;</td><td>1858.0</td></tr><tr><td>&quot;null_count&quot;</td><td>0.0</td></tr><tr><td>&quot;mean&quot;</td><td>74.658235</td></tr><tr><td>&quot;std&quot;</td><td>8.0863</td></tr><tr><td>&quot;min&quot;</td><td>38.0</td></tr><tr><td>&quot;25%&quot;</td><td>70.0</td></tr><tr><td>&quot;50%&quot;</td><td>75.0</td></tr><tr><td>&quot;75%&quot;</td><td>80.0</td></tr><tr><td>&quot;max&quot;</td><td>97.0</td></tr></tbody></table></div>"
      ],
      "text/plain": [
       "shape: (9, 2)\n",
       "┌────────────┬───────────┐\n",
       "│ statistic  ┆ age       │\n",
       "│ ---        ┆ ---       │\n",
       "│ str        ┆ f64       │\n",
       "╞════════════╪═══════════╡\n",
       "│ count      ┆ 1858.0    │\n",
       "│ null_count ┆ 0.0       │\n",
       "│ mean       ┆ 74.658235 │\n",
       "│ std        ┆ 8.0863    │\n",
       "│ min        ┆ 38.0      │\n",
       "│ 25%        ┆ 70.0      │\n",
       "│ 50%        ┆ 75.0      │\n",
       "│ 75%        ┆ 80.0      │\n",
       "│ max        ┆ 97.0      │\n",
       "└────────────┴───────────┘"
      ]
     },
     "execution_count": 110,
     "metadata": {},
     "output_type": "execute_result"
    }
   ],
   "source": [
    "df_nbse.select('age').describe()"
   ]
  },
  {
   "cell_type": "markdown",
   "metadata": {},
   "source": [
    "# Education"
   ]
  },
  {
   "cell_type": "code",
   "execution_count": 125,
   "metadata": {},
   "outputs": [
    {
     "data": {
      "text/html": [
       "<div><style>\n",
       ".dataframe > thead > tr,\n",
       ".dataframe > tbody > tr {\n",
       "  text-align: right;\n",
       "  white-space: pre-wrap;\n",
       "}\n",
       "</style>\n",
       "<small>shape: (5, 3)</small><table border=\"1\" class=\"dataframe\"><thead><tr><th>edu_discrete</th><th>count</th><th>percent</th></tr><tr><td>cat</td><td>u32</td><td>f64</td></tr></thead><tbody><tr><td>null</td><td>1</td><td>0.05</td></tr><tr><td>&quot;(-inf, 8]&quot;</td><td>38</td><td>2.05</td></tr><tr><td>&quot;(16, inf]&quot;</td><td>242</td><td>13.02</td></tr><tr><td>&quot;(12, 16]&quot;</td><td>833</td><td>44.83</td></tr><tr><td>&quot;(8, 12]&quot;</td><td>744</td><td>40.04</td></tr></tbody></table></div>"
      ],
      "text/plain": [
       "shape: (5, 3)\n",
       "┌──────────────┬───────┬─────────┐\n",
       "│ edu_discrete ┆ count ┆ percent │\n",
       "│ ---          ┆ ---   ┆ ---     │\n",
       "│ cat          ┆ u32   ┆ f64     │\n",
       "╞══════════════╪═══════╪═════════╡\n",
       "│ null         ┆ 1     ┆ 0.05    │\n",
       "│ (-inf, 8]    ┆ 38    ┆ 2.05    │\n",
       "│ (16, inf]    ┆ 242   ┆ 13.02   │\n",
       "│ (12, 16]     ┆ 833   ┆ 44.83   │\n",
       "│ (8, 12]      ┆ 744   ┆ 40.04   │\n",
       "└──────────────┴───────┴─────────┘"
      ]
     },
     "execution_count": 125,
     "metadata": {},
     "output_type": "execute_result"
    }
   ],
   "source": [
    "df_nbse.select(\n",
    "    pl.col('education').cut([8,12,16]).alias('edu_discrete').value_counts(),\n",
    ").unnest('edu_discrete').with_columns(\n",
    "(pl.col('count')/pl.col('count').sum() * 100).round(2).alias('percent')\n",
    ")"
   ]
  },
  {
   "cell_type": "code",
   "execution_count": 129,
   "metadata": {},
   "outputs": [
    {
     "data": {
      "text/plain": [
       "{1: 'Caucasian', 2: 'Africanamerican', 3: 'Asian', 4: 'other'}"
      ]
     },
     "execution_count": 129,
     "metadata": {},
     "output_type": "execute_result"
    }
   ],
   "source": [
    "value_mapping['race']"
   ]
  },
  {
   "cell_type": "code",
   "execution_count": 148,
   "metadata": {},
   "outputs": [
    {
     "data": {
      "text/html": [
       "<div><style>\n",
       ".dataframe > thead > tr,\n",
       ".dataframe > tbody > tr {\n",
       "  text-align: right;\n",
       "  white-space: pre-wrap;\n",
       "}\n",
       "</style>\n",
       "<small>shape: (4, 3)</small><table border=\"1\" class=\"dataframe\"><thead><tr><th>race</th><th>count</th><th>percent</th></tr><tr><td>str</td><td>u32</td><td>f64</td></tr></thead><tbody><tr><td>&quot;Caucasian&quot;</td><td>1261</td><td>91.64</td></tr><tr><td>&quot;Africanamerican&quot;</td><td>82</td><td>5.96</td></tr><tr><td>&quot;other&quot;</td><td>28</td><td>2.03</td></tr><tr><td>&quot;Asian&quot;</td><td>5</td><td>0.36</td></tr></tbody></table></div>"
      ],
      "text/plain": [
       "shape: (4, 3)\n",
       "┌─────────────────┬───────┬─────────┐\n",
       "│ race            ┆ count ┆ percent │\n",
       "│ ---             ┆ ---   ┆ ---     │\n",
       "│ str             ┆ u32   ┆ f64     │\n",
       "╞═════════════════╪═══════╪═════════╡\n",
       "│ Caucasian       ┆ 1261  ┆ 91.64   │\n",
       "│ Africanamerican ┆ 82    ┆ 5.96    │\n",
       "│ other           ┆ 28    ┆ 2.03    │\n",
       "│ Asian           ┆ 5     ┆ 0.36    │\n",
       "└─────────────────┴───────┴─────────┘"
      ]
     },
     "execution_count": 148,
     "metadata": {},
     "output_type": "execute_result"
    }
   ],
   "source": [
    "df_inner.select(\n",
    "    pl.col('race').replace_strict(value_mapping['race']).value_counts()\n",
    ").unnest('race').sort('count',descending=True).drop_nulls().with_columns(\n",
    "    (100*pl.col('count')/pl.col('count').sum()).round(2).alias('percent')\n",
    ")"
   ]
  },
  {
   "cell_type": "code",
   "execution_count": null,
   "metadata": {},
   "outputs": [],
   "source": []
  }
 ],
 "metadata": {
  "kernelspec": {
   "display_name": ".venv",
   "language": "python",
   "name": "python3"
  },
  "language_info": {
   "codemirror_mode": {
    "name": "ipython",
    "version": 3
   },
   "file_extension": ".py",
   "mimetype": "text/x-python",
   "name": "python",
   "nbconvert_exporter": "python",
   "pygments_lexer": "ipython3",
   "version": "3.12.4"
  }
 },
 "nbformat": 4,
 "nbformat_minor": 2
}
