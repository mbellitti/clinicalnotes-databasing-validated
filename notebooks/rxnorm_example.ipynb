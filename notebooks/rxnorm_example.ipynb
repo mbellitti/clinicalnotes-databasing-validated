{
 "cells": [
  {
   "cell_type": "code",
   "execution_count": 13,
   "metadata": {},
   "outputs": [],
   "source": [
    "import polars as pl\n",
    "from pathlib import Path"
   ]
  },
  {
   "cell_type": "code",
   "execution_count": 5,
   "metadata": {},
   "outputs": [],
   "source": [
    "meds = pl.read_parquet('/projectnb/vkolagrp/bellitti/clinicalnotes-databasing-validated/results/medications_tabulated.parquet')"
   ]
  },
  {
   "cell_type": "code",
   "execution_count": 10,
   "metadata": {},
   "outputs": [
    {
     "data": {
      "text/html": [
       "<div><style>\n",
       ".dataframe > thead > tr,\n",
       ".dataframe > tbody > tr {\n",
       "  text-align: right;\n",
       "  white-space: pre-wrap;\n",
       "}\n",
       "</style>\n",
       "<small>shape: (45, 3)</small><table border=\"1\" class=\"dataframe\"><thead><tr><th>VAC</th><th>medication</th><th>standard_ingredient</th></tr><tr><td>i64</td><td>str</td><td>str</td></tr></thead><tbody><tr><td>2343</td><td>&quot;ZZFISH OIL 1000MG CAP&quot;</td><td>null</td></tr><tr><td>2181</td><td>&quot;Glucerna&quot;</td><td>null</td></tr><tr><td>998</td><td>&quot;Valdoxin 50 mg&quot;</td><td>null</td></tr><tr><td>998</td><td>&quot;Iodoral 5 mg&quot;</td><td>null</td></tr><tr><td>1461</td><td>&quot;INSULIN SYRINGE 0.5ML 31G 8MM&quot;</td><td>null</td></tr><tr><td>&hellip;</td><td>&hellip;</td><td>&hellip;</td></tr><tr><td>1067</td><td>&quot;Insulin Syringe 0.5ML&quot;</td><td>null</td></tr><tr><td>1260</td><td>&quot;Ophthalmic ointment&quot;</td><td>null</td></tr><tr><td>1557</td><td>&quot;Insulin syringe – 1mL 31g 5/16…</td><td>null</td></tr><tr><td>1768</td><td>&quot;ZZFish Oil&quot;</td><td>null</td></tr><tr><td>741</td><td>&quot;Fluticasone Propionate nasal s…</td><td>null</td></tr></tbody></table></div>"
      ],
      "text/plain": [
       "shape: (45, 3)\n",
       "┌──────┬─────────────────────────────────┬─────────────────────┐\n",
       "│ VAC  ┆ medication                      ┆ standard_ingredient │\n",
       "│ ---  ┆ ---                             ┆ ---                 │\n",
       "│ i64  ┆ str                             ┆ str                 │\n",
       "╞══════╪═════════════════════════════════╪═════════════════════╡\n",
       "│ 2343 ┆ ZZFISH OIL 1000MG CAP           ┆ null                │\n",
       "│ 2181 ┆ Glucerna                        ┆ null                │\n",
       "│ 998  ┆ Valdoxin 50 mg                  ┆ null                │\n",
       "│ 998  ┆ Iodoral 5 mg                    ┆ null                │\n",
       "│ 1461 ┆ INSULIN SYRINGE 0.5ML 31G 8MM   ┆ null                │\n",
       "│ …    ┆ …                               ┆ …                   │\n",
       "│ 1067 ┆ Insulin Syringe 0.5ML           ┆ null                │\n",
       "│ 1260 ┆ Ophthalmic ointment             ┆ null                │\n",
       "│ 1557 ┆ Insulin syringe – 1mL 31g 5/16… ┆ null                │\n",
       "│ 1768 ┆ ZZFish Oil                      ┆ null                │\n",
       "│ 741  ┆ Fluticasone Propionate nasal s… ┆ null                │\n",
       "└──────┴─────────────────────────────────┴─────────────────────┘"
      ]
     },
     "execution_count": 10,
     "metadata": {},
     "output_type": "execute_result"
    }
   ],
   "source": [
    "meds.filter(\n",
    "    (pl.col('standard_ingredient').is_null()) &\n",
    "    (pl.col('medication').is_not_null())\n",
    "    )"
   ]
  },
  {
   "cell_type": "code",
   "execution_count": 18,
   "metadata": {},
   "outputs": [],
   "source": [
    "german_acb_scale = Path('../data/german_anticholinergic_scale.json')\n",
    "\n",
    "acb_scale = pl.read_json(german_acb_scale)"
   ]
  },
  {
   "cell_type": "code",
   "execution_count": 15,
   "metadata": {},
   "outputs": [],
   "source": [
    "import sys\n",
    "sys.path.append('/projectnb/vkolagrp/bellitti/clinicalnotes-databasing-validated/src')\n",
    "\n",
    "from standardize_meds import standardize_drug_name"
   ]
  },
  {
   "cell_type": "code",
   "execution_count": 25,
   "metadata": {},
   "outputs": [],
   "source": [
    "acb_std = acb_scale.with_columns(\n",
    "    pl.col('drug').map_elements(standardize_drug_name,return_dtype=pl.List(pl.String)).alias('standard_name')\n",
    ").explode('standard_name')"
   ]
  },
  {
   "cell_type": "code",
   "execution_count": 26,
   "metadata": {},
   "outputs": [
    {
     "data": {
      "text/html": [
       "<div><style>\n",
       ".dataframe > thead > tr,\n",
       ".dataframe > tbody > tr {\n",
       "  text-align: right;\n",
       "  white-space: pre-wrap;\n",
       "}\n",
       "</style>\n",
       "<small>shape: (151, 3)</small><table border=\"1\" class=\"dataframe\"><thead><tr><th>drug</th><th>acb_score</th><th>standard_name</th></tr><tr><td>str</td><td>i64</td><td>str</td></tr></thead><tbody><tr><td>&quot;Aclidinium&quot;</td><td>1</td><td>&quot;aclidinium&quot;</td></tr><tr><td>&quot;Entacapone&quot;</td><td>1</td><td>&quot;entacapone&quot;</td></tr><tr><td>&quot;Mirtazapine&quot;</td><td>1</td><td>&quot;mirtazapine&quot;</td></tr><tr><td>&quot;Alprazolam&quot;</td><td>1</td><td>&quot;alprazolam&quot;</td></tr><tr><td>&quot;Escitalopram&quot;</td><td>1</td><td>&quot;escitalopram&quot;</td></tr><tr><td>&hellip;</td><td>&hellip;</td><td>&hellip;</td></tr><tr><td>&quot;Tizanidine&quot;</td><td>3</td><td>&quot;tizanidine&quot;</td></tr><tr><td>&quot;Tolterodine&quot;</td><td>3</td><td>&quot;tolterodine&quot;</td></tr><tr><td>&quot;Trihexyphenidyl&quot;</td><td>3</td><td>&quot;trihexyphenidyl&quot;</td></tr><tr><td>&quot;Trimipramine&quot;</td><td>3</td><td>&quot;trimipramine&quot;</td></tr><tr><td>&quot;Trospium&quot;</td><td>3</td><td>&quot;trospium&quot;</td></tr></tbody></table></div>"
      ],
      "text/plain": [
       "shape: (151, 3)\n",
       "┌─────────────────┬───────────┬─────────────────┐\n",
       "│ drug            ┆ acb_score ┆ standard_name   │\n",
       "│ ---             ┆ ---       ┆ ---             │\n",
       "│ str             ┆ i64       ┆ str             │\n",
       "╞═════════════════╪═══════════╪═════════════════╡\n",
       "│ Aclidinium      ┆ 1         ┆ aclidinium      │\n",
       "│ Entacapone      ┆ 1         ┆ entacapone      │\n",
       "│ Mirtazapine     ┆ 1         ┆ mirtazapine     │\n",
       "│ Alprazolam      ┆ 1         ┆ alprazolam      │\n",
       "│ Escitalopram    ┆ 1         ┆ escitalopram    │\n",
       "│ …               ┆ …         ┆ …               │\n",
       "│ Tizanidine      ┆ 3         ┆ tizanidine      │\n",
       "│ Tolterodine     ┆ 3         ┆ tolterodine     │\n",
       "│ Trihexyphenidyl ┆ 3         ┆ trihexyphenidyl │\n",
       "│ Trimipramine    ┆ 3         ┆ trimipramine    │\n",
       "│ Trospium        ┆ 3         ┆ trospium        │\n",
       "└─────────────────┴───────────┴─────────────────┘"
      ]
     },
     "execution_count": 26,
     "metadata": {},
     "output_type": "execute_result"
    }
   ],
   "source": [
    "acb_std"
   ]
  }
 ],
 "metadata": {
  "kernelspec": {
   "display_name": ".venv",
   "language": "python",
   "name": "python3"
  },
  "language_info": {
   "codemirror_mode": {
    "name": "ipython",
    "version": 3
   },
   "file_extension": ".py",
   "mimetype": "text/x-python",
   "name": "python",
   "nbconvert_exporter": "python",
   "pygments_lexer": "ipython3",
   "version": "3.12.4"
  }
 },
 "nbformat": 4,
 "nbformat_minor": 2
}
