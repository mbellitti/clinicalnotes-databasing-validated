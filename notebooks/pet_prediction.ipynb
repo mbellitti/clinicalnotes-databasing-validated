{
 "cells": [
  {
   "cell_type": "code",
   "execution_count": 1,
   "metadata": {},
   "outputs": [],
   "source": [
    "import polars as pl\n",
    "import polars.selectors as cs\n",
    "import re\n"
   ]
  },
  {
   "cell_type": "code",
   "execution_count": 2,
   "metadata": {},
   "outputs": [],
   "source": [
    "def extract_id(s) -> int:\n",
    "    # Extract VAC from string\n",
    "    match = re.search(r'(\\d+)', s)\n",
    "\n",
    "    if match is None:\n",
    "        raise ValueError(f\"Could not match ID from {s}\")\n",
    "    else:\n",
    "        return int(match.group(1)) "
   ]
  },
  {
   "cell_type": "code",
   "execution_count": 12,
   "metadata": {},
   "outputs": [],
   "source": [
    "demog = pl.read_excel(\n",
    "    \"/projectnb/vkolagrp/bellitti/clinicalnotes-databasing-validated/data/LLM study spreadsheet_Extended_2025.06.23.xlsx\",\n",
    "    infer_schema_length=None,\n",
    ")"
   ]
  },
  {
   "cell_type": "code",
   "execution_count": 16,
   "metadata": {},
   "outputs": [
    {
     "data": {
      "text/html": [
       "<div><style>\n",
       ".dataframe > thead > tr,\n",
       ".dataframe > tbody > tr {\n",
       "  text-align: right;\n",
       "  white-space: pre-wrap;\n",
       "}\n",
       "</style>\n",
       "<small>shape: (2_123, 3)</small><table border=\"1\" class=\"dataframe\"><thead><tr><th>aPET 0. No 1. Yes</th><th># of visits until PET ordered</th><th>PET result 1.Normal 2.Abnormal</th></tr><tr><td>i64</td><td>f64</td><td>str</td></tr></thead><tbody><tr><td>0</td><td>null</td><td>null</td></tr><tr><td>0</td><td>null</td><td>null</td></tr><tr><td>0</td><td>null</td><td>null</td></tr><tr><td>0</td><td>null</td><td>null</td></tr><tr><td>0</td><td>null</td><td>null</td></tr><tr><td>&hellip;</td><td>&hellip;</td><td>&hellip;</td></tr><tr><td>1</td><td>1.0</td><td>&quot;2&quot;</td></tr><tr><td>1</td><td>1.0</td><td>&quot;1&quot;</td></tr><tr><td>1</td><td>1.0</td><td>&quot;2&quot;</td></tr><tr><td>1</td><td>null</td><td>&quot;1&quot;</td></tr><tr><td>1</td><td>null</td><td>&quot;1&quot;</td></tr></tbody></table></div>"
      ],
      "text/plain": [
       "shape: (2_123, 3)\n",
       "┌───────────────────┬───────────────────────────────┬────────────────────────────────┐\n",
       "│ aPET 0. No 1. Yes ┆ # of visits until PET ordered ┆ PET result 1.Normal 2.Abnormal │\n",
       "│ ---               ┆ ---                           ┆ ---                            │\n",
       "│ i64               ┆ f64                           ┆ str                            │\n",
       "╞═══════════════════╪═══════════════════════════════╪════════════════════════════════╡\n",
       "│ 0                 ┆ null                          ┆ null                           │\n",
       "│ 0                 ┆ null                          ┆ null                           │\n",
       "│ 0                 ┆ null                          ┆ null                           │\n",
       "│ 0                 ┆ null                          ┆ null                           │\n",
       "│ 0                 ┆ null                          ┆ null                           │\n",
       "│ …                 ┆ …                             ┆ …                              │\n",
       "│ 1                 ┆ 1.0                           ┆ 2                              │\n",
       "│ 1                 ┆ 1.0                           ┆ 1                              │\n",
       "│ 1                 ┆ 1.0                           ┆ 2                              │\n",
       "│ 1                 ┆ null                          ┆ 1                              │\n",
       "│ 1                 ┆ null                          ┆ 1                              │\n",
       "└───────────────────┴───────────────────────────────┴────────────────────────────────┘"
      ]
     },
     "execution_count": 16,
     "metadata": {},
     "output_type": "execute_result"
    }
   ],
   "source": [
    "demog.select(cs.contains('PET'))"
   ]
  },
  {
   "cell_type": "code",
   "execution_count": 27,
   "metadata": {},
   "outputs": [
    {
     "data": {
      "text/html": [
       "<div><style>\n",
       ".dataframe > thead > tr,\n",
       ".dataframe > tbody > tr {\n",
       "  text-align: right;\n",
       "  white-space: pre-wrap;\n",
       "}\n",
       "</style>\n",
       "<small>shape: (1, 68)</small><table border=\"1\" class=\"dataframe\"><thead><tr><th>VAC</th><th>Data collection by</th><th># Appts: 1,2,3,4,5,6, NA (duplicate)</th><th>Age At Consult</th><th>Year of Birth</th><th>sex</th><th>Educ Yrs</th><th>Race 1.Caucasian 2. Africanamerican 3. Asian 4.other</th><th>ethnicity 0.non hispanic 1.hispanic</th><th>occupation 1. working 2. retired 3. unemployed</th><th>Marital status 1. Single never married 2. married 3. divorced/widowed</th><th>living situation 1. Alone 2. Family 3. CRC 4. ALF 5. NH 6. inpatient</th><th>aPET 0. No 1. Yes</th><th>Date Performed</th><th># of visits until PET ordered</th><th>PET result 1.Normal 2.Abnormal</th><th>1st Appt Date</th><th>MOCA</th><th>t-MOCA</th><th>Function 1.independent 2. dep any iADLs 3. dependent all iADLs 4.  dep any bADLs 5. dependent all bADLs </th><th>Behavioral disturbance 0. No 1. Yes (anger, irritability, disinhibition)</th><th>Cognitive syndrome 1st 1.Unimpaired 2.SCD 3. MCI 4. Dementia</th><th>NBSE Date</th><th>Second visit date</th><th>MoCA</th><th>t-MOCA_1</th><th>Function 1.independent 2. dep any iADLs 3. dependent all iADLs 4.  dep any bADLs 5. dependent all bADLs _1</th><th>Behavioral disturbance 0.No 1.Yes</th><th>Cognitive syndrome 2nd 1.Unimpaired 2.SCD 3. MCI 4. Dementia</th><th>Medication Change 0.No 1.Yes</th><th>Living situation change 0.No 1.Yes</th><th>DC&#x27;d 0.no 1.yes</th><th>3rd Visit</th><th>MOCA Total</th><th>t-MOCA_2</th><th>Function 1.independent 2. dep any iADLs 3. dependent all iADLs 4.  dep any bADLs 5. dependent all bADLs _2</th><th>Behavioral disturbance  0.No 1.Yes</th><th>Cognitive syndrome 1st 1.Unimpaired 2.SCD 3. MCI 4. Dementia_1</th><th>Med Change 0.No 1.Yes</th><th>Living situation change 0.No 1.Yes_1</th><th>DC&#x27;d 0.no 1.yes_1</th><th>Fourth fu date</th><th>MOCA Total_1</th><th>t-MoCA</th><th>Function 1.independent 2. dep any iADLs 3. dependent all iADLs 4.  dep any bADLs 5. dependent all bADLs _3</th><th>Behavioral disturbance  0.No 1.Yes_1</th><th>Cognitive syndrome 1st 1.Unimpaired 2.SCD 3. MCI 4. Dementia_2</th><th>Med Change 0.No 1.Yes_1</th><th>Living situation change 0.No 1.Yes_2</th><th>Discharged0.no 1.yes</th><th>Fifth fu date</th><th>MOCA Total_2</th><th>t-MoCA_1</th><th>Function 1.independent 2. dep any iADLs 3. dependent all iADLs 4.  dep any bADLs 5. dependent all bADLs _4</th><th>Behavioral disturbance  0.No 1.Yes_2</th><th>Cognitive syndrome 1st 1.Unimpaired 2.SCD 3. MCI 4. Dementia_3</th><th>Medication Change 0.No 1.Yes_1</th><th>Living situation change 0.No 1.Yes_3</th><th>Discharged0.no 1.yes_1</th><th>Sixth fu date</th><th>MOCA_1</th><th>t-MOCA_3</th><th>Function 1.independent 2. dep any iADLs 3. dependent all iADLs 4.  dep any bADLs 5. dependent all bADLs _5</th><th>Behavioral disturbance  0.No 1.Yes_3</th><th>Cognitive syndrome 1st 1.Unimpaired 2.SCD 3. MCI 4. Dementia_4</th><th>Med Change 0.No 1.Yes_2</th><th>Living Situation Changed 0. No 1. Yes</th><th>Discharged0.no 1.yes_2</th></tr><tr><td>str</td><td>str</td><td>str</td><td>str</td><td>i64</td><td>str</td><td>str</td><td>i64</td><td>i64</td><td>i64</td><td>i64</td><td>i64</td><td>i64</td><td>str</td><td>f64</td><td>str</td><td>str</td><td>str</td><td>str</td><td>i64</td><td>i64</td><td>str</td><td>str</td><td>str</td><td>i64</td><td>f64</td><td>i64</td><td>i64</td><td>i64</td><td>i64</td><td>i64</td><td>i64</td><td>str</td><td>str</td><td>f64</td><td>i64</td><td>i64</td><td>i64</td><td>i64</td><td>i64</td><td>i64</td><td>str</td><td>f64</td><td>f64</td><td>i64</td><td>i64</td><td>i64</td><td>i64</td><td>i64</td><td>i64</td><td>str</td><td>f64</td><td>f64</td><td>str</td><td>i64</td><td>i64</td><td>i64</td><td>i64</td><td>i64</td><td>date</td><td>f64</td><td>str</td><td>i64</td><td>i64</td><td>i64</td><td>i64</td><td>i64</td><td>i64</td></tr></thead><tbody><tr><td>&quot;2171&quot;</td><td>null</td><td>null</td><td>null</td><td>1930</td><td>&quot;M&quot;</td><td>null</td><td>1</td><td>0</td><td>null</td><td>null</td><td>null</td><td>0</td><td>&quot;2024-12-11 00:00:00&quot;</td><td>null</td><td>&quot;1&quot;</td><td>null</td><td>null</td><td>null</td><td>null</td><td>null</td><td>null</td><td>null</td><td>null</td><td>null</td><td>null</td><td>null</td><td>null</td><td>null</td><td>null</td><td>null</td><td>null</td><td>null</td><td>null</td><td>null</td><td>null</td><td>null</td><td>null</td><td>null</td><td>null</td><td>null</td><td>null</td><td>null</td><td>null</td><td>null</td><td>null</td><td>null</td><td>null</td><td>null</td><td>null</td><td>null</td><td>null</td><td>null</td><td>null</td><td>null</td><td>null</td><td>null</td><td>null</td><td>null</td><td>null</td><td>null</td><td>null</td><td>null</td><td>null</td><td>null</td><td>null</td><td>null</td><td>null</td></tr></tbody></table></div>"
      ],
      "text/plain": [
       "shape: (1, 68)\n",
       "┌──────┬────────────┬────────────┬────────────┬───┬────────────┬───────────┬───────────┬───────────┐\n",
       "│ VAC  ┆ Data       ┆ # Appts:   ┆ Age At     ┆ … ┆ Cognitive  ┆ Med       ┆ Living    ┆ Discharge │\n",
       "│ ---  ┆ collection ┆ 1,2,3,4,5, ┆ Consult    ┆   ┆ syndrome   ┆ Change    ┆ Situation ┆ d0.no     │\n",
       "│ str  ┆ by         ┆ 6, NA      ┆ ---        ┆   ┆ 1st        ┆ 0.No      ┆ Changed   ┆ 1.yes_2   │\n",
       "│      ┆ ---        ┆ (dupl…     ┆ str        ┆   ┆ 1.Unimp…   ┆ 1.Yes_2   ┆ 0. No…    ┆ ---       │\n",
       "│      ┆ str        ┆ ---        ┆            ┆   ┆ ---        ┆ ---       ┆ ---       ┆ i64       │\n",
       "│      ┆            ┆ str        ┆            ┆   ┆ i64        ┆ i64       ┆ i64       ┆           │\n",
       "╞══════╪════════════╪════════════╪════════════╪═══╪════════════╪═══════════╪═══════════╪═══════════╡\n",
       "│ 2171 ┆ null       ┆ null       ┆ null       ┆ … ┆ null       ┆ null      ┆ null      ┆ null      │\n",
       "└──────┴────────────┴────────────┴────────────┴───┴────────────┴───────────┴───────────┴───────────┘"
      ]
     },
     "execution_count": 27,
     "metadata": {},
     "output_type": "execute_result"
    }
   ],
   "source": [
    "demog.filter(\n",
    "    (pl.col('aPET 0. No 1. Yes') == 0) &\n",
    "    (pl.col('PET result 1.Normal 2.Abnormal') == '1')\n",
    ")"
   ]
  },
  {
   "cell_type": "code",
   "execution_count": 22,
   "metadata": {},
   "outputs": [
    {
     "data": {
      "text/html": [
       "<div><style>\n",
       ".dataframe > thead > tr,\n",
       ".dataframe > tbody > tr {\n",
       "  text-align: right;\n",
       "  white-space: pre-wrap;\n",
       "}\n",
       "</style>\n",
       "<small>shape: (3, 1)</small><table border=\"1\" class=\"dataframe\"><thead><tr><th>PET result 1.Normal 2.Abnormal</th></tr><tr><td>struct[2]</td></tr></thead><tbody><tr><td>{&quot;1&quot;,1}</td></tr><tr><td>{&quot; &quot;,56}</td></tr><tr><td>{null,1503}</td></tr></tbody></table></div>"
      ],
      "text/plain": [
       "shape: (3, 1)\n",
       "┌────────────────────────────────┐\n",
       "│ PET result 1.Normal 2.Abnormal │\n",
       "│ ---                            │\n",
       "│ struct[2]                      │\n",
       "╞════════════════════════════════╡\n",
       "│ {\"1\",1}                        │\n",
       "│ {\" \",56}                       │\n",
       "│ {null,1503}                    │\n",
       "└────────────────────────────────┘"
      ]
     },
     "execution_count": 22,
     "metadata": {},
     "output_type": "execute_result"
    }
   ],
   "source": [
    "demog.filter(pl.col('aPET 0. No 1. Yes') == 0).select(\n",
    "    pl.col('PET result 1.Normal 2.Abnormal').value_counts()\n",
    ")"
   ]
  },
  {
   "cell_type": "code",
   "execution_count": null,
   "metadata": {},
   "outputs": [],
   "source": [
    "\n",
    "# The VAC column is inconsistent, needs to be converted to int\n",
    "demog = demog.with_columns(\n",
    "    pl.col(\"VAC\").map_elements(extract_id, return_dtype=pl.Int64).alias(\"VAC\"),\n",
    "    pl.col('# Appts: 1,2,3,4,5,6, NA (duplicate)').str.extract(r'\\b(\\d+)\\b'),\n",
    "    pl.col('Educ Yrs').str.extract(r'\\b(\\d+)\\b'), # sometimes it's ranges, this rounds down\n",
    "    pl.col('sex').str.strip_chars(' ').str.to_uppercase(),\n",
    "    pl.when(\n",
    "        pl.col('PET result 1.Normal 2.Abnormal').is_in(['1','2'])\n",
    "    ).then(\n",
    "        pl.col('PET result 1.Normal 2.Abnormal')\n",
    "    ).otherwise(None).cast(pl.Int64) # clean up pet results, there are a couple of unexplained sentinel values\n",
    ").filter(\n",
    "    pl.col(\"VAC\") != 1448  # almost no data on this patient\n",
    ").with_columns(\n",
    "    pl.col('Age At Consult').cast(pl.Int64),\n",
    "    pl.col('# Appts: 1,2,3,4,5,6, NA (duplicate)').cast(pl.Int64),\n",
    "    pl.col('Educ Yrs').cast(pl.Int64),\n",
    ")"
   ]
  },
  {
   "cell_type": "code",
   "execution_count": 62,
   "metadata": {},
   "outputs": [
    {
     "data": {
      "text/html": [
       "<div><style>\n",
       ".dataframe > thead > tr,\n",
       ".dataframe > tbody > tr {\n",
       "  text-align: right;\n",
       "  white-space: pre-wrap;\n",
       "}\n",
       "</style>\n",
       "<small>shape: (4, 1)</small><table border=\"1\" class=\"dataframe\"><thead><tr><th>sex</th></tr><tr><td>struct[2]</td></tr></thead><tbody><tr><td>{&quot;F&quot;,79}</td></tr><tr><td>{&quot;TGF&quot;,1}</td></tr><tr><td>{null,173}</td></tr><tr><td>{&quot;M&quot;,1869}</td></tr></tbody></table></div>"
      ],
      "text/plain": [
       "shape: (4, 1)\n",
       "┌────────────┐\n",
       "│ sex        │\n",
       "│ ---        │\n",
       "│ struct[2]  │\n",
       "╞════════════╡\n",
       "│ {\"F\",79}   │\n",
       "│ {\"TGF\",1}  │\n",
       "│ {null,173} │\n",
       "│ {\"M\",1869} │\n",
       "└────────────┘"
      ]
     },
     "execution_count": 62,
     "metadata": {},
     "output_type": "execute_result"
    }
   ],
   "source": [
    "demog.select(\n",
    "    pl.col('sex').value_counts()\n",
    ")"
   ]
  },
  {
   "cell_type": "code",
   "execution_count": 7,
   "metadata": {},
   "outputs": [],
   "source": [
    "# nbse = pl.read_parquet('/projectnb/vkolagrp/bellitti/clinicalnotes-databasing-validated/notebooks/NBSE_tabulated.parquet')"
   ]
  },
  {
   "cell_type": "markdown",
   "metadata": {},
   "source": [
    "In the NBSE file the list of medications is still a list, we can convert that to unique identifiers using RxNorm"
   ]
  },
  {
   "cell_type": "code",
   "execution_count": 8,
   "metadata": {},
   "outputs": [],
   "source": [
    "# data = nbse.join(demog,on='VAC',how=\"left\").drop('cerad_rapid_forgetting_words')"
   ]
  },
  {
   "cell_type": "markdown",
   "metadata": {},
   "source": [
    "The PET result column has a few notes and sentinel values not explained. We will keep only values equal to 1 or 2, anything else is treated as null. \n",
    "We will also assume that the PET does not change, "
   ]
  },
  {
   "cell_type": "code",
   "execution_count": null,
   "metadata": {},
   "outputs": [
    {
     "ename": "ColumnNotFoundError",
     "evalue": "unable to find column \"completed\"; valid columns: [\"VAC\", \"Data collection by\", \"# Appts: 1,2,3,4,5,6, NA (duplicate)\", \"Age At Consult\", \"Year of Birth\", \"sex\", \"Educ Yrs\", \"Race 1.Caucasian 2. Africanamerican 3. Asian 4.other\", \"ethnicity 0.non hispanic 1.hispanic\", \"occupation 1. working 2. retired 3. unemployed\", \"Marital status 1. Single never married 2. married 3. divorced/widowed\", \"living situation 1. Alone 2. Family 3. CRC 4. ALF 5. NH 6. inpatient\", \"aPET 0. No 1. Yes\", \"Date Performed\", \"# of visits until PET ordered\", \"PET result 1.Normal 2.Abnormal\", \"1st Appt Date\", \"MOCA\", \"t-MOCA\", \"Function 1.independent 2. dep any iADLs 3. dependent all iADLs 4.  dep any bADLs 5. dependent all bADLs \", \"Behavioral disturbance 0. No 1. Yes (anger, irritability, disinhibition)\", \"Cognitive syndrome 1st 1.Unimpaired 2.SCD 3. MCI 4. Dementia\", \"NBSE Date\", \"Second visit date\", \"MoCA\", \"t-MOCA_1\", \"Function 1.independent 2. dep any iADLs 3. dependent all iADLs 4.  dep any bADLs 5. dependent all bADLs _1\", \"Behavioral disturbance 0.No 1.Yes\", \"Cognitive syndrome 2nd 1.Unimpaired 2.SCD 3. MCI 4. Dementia\", \"Medication Change 0.No 1.Yes\", \"Living situation change 0.No 1.Yes\", \"DC'd 0.no 1.yes\", \"3rd Visit\", \"MOCA Total\", \"t-MOCA_2\", \"Function 1.independent 2. dep any iADLs 3. dependent all iADLs 4.  dep any bADLs 5. dependent all bADLs _2\", \"Behavioral disturbance  0.No 1.Yes\", \"Cognitive syndrome 1st 1.Unimpaired 2.SCD 3. MCI 4. Dementia_1\", \"Med Change 0.No 1.Yes\", \"Living situation change 0.No 1.Yes_1\", \"DC'd 0.no 1.yes_1\", \"Fourth fu date\", \"MOCA Total_1\", \"t-MoCA\", \"Function 1.independent 2. dep any iADLs 3. dependent all iADLs 4.  dep any bADLs 5. dependent all bADLs _3\", \"Behavioral disturbance  0.No 1.Yes_1\", \"Cognitive syndrome 1st 1.Unimpaired 2.SCD 3. MCI 4. Dementia_2\", \"Med Change 0.No 1.Yes_1\", \"Living situation change 0.No 1.Yes_2\", \"Discharged0.no 1.yes\", \"Fifth fu date\", \"MOCA Total_2\", \"t-MoCA_1\", \"Function 1.independent 2. dep any iADLs 3. dependent all iADLs 4.  dep any bADLs 5. dependent all bADLs _4\", \"Behavioral disturbance  0.No 1.Yes_2\", \"Cognitive syndrome 1st 1.Unimpaired 2.SCD 3. MCI 4. Dementia_3\", \"Medication Change 0.No 1.Yes_1\", \"Living situation change 0.No 1.Yes_3\", \"Discharged0.no 1.yes_1\", \"Sixth fu date\", \"MOCA_1\", \"t-MOCA_3\", \"Function 1.independent 2. dep any iADLs 3. dependent all iADLs 4.  dep any bADLs 5. dependent all bADLs _5\", \"Behavioral disturbance  0.No 1.Yes_3\", \"Cognitive syndrome 1st 1.Unimpaired 2.SCD 3. MCI 4. Dementia_4\", \"Med Change 0.No 1.Yes_2\", \"Living Situation Changed 0. No 1. Yes\", \"Discharged0.no 1.yes_2\"]",
     "output_type": "error",
     "traceback": [
      "\u001b[31m---------------------------------------------------------------------------\u001b[39m",
      "\u001b[31mColumnNotFoundError\u001b[39m                       Traceback (most recent call last)",
      "\u001b[36mCell\u001b[39m\u001b[36m \u001b[39m\u001b[32mIn[11]\u001b[39m\u001b[32m, line 1\u001b[39m\n\u001b[32m----> \u001b[39m\u001b[32m1\u001b[39m apet = \u001b[43mdemog\u001b[49m\u001b[43m.\u001b[49m\u001b[43mfilter\u001b[49m\u001b[43m(\u001b[49m\u001b[43mpl\u001b[49m\u001b[43m.\u001b[49m\u001b[43mcol\u001b[49m\u001b[43m(\u001b[49m\u001b[33;43m'\u001b[39;49m\u001b[33;43mPET result 1.Normal 2.Abnormal\u001b[39;49m\u001b[33;43m'\u001b[39;49m\u001b[43m)\u001b[49m\u001b[43m.\u001b[49m\u001b[43mstr\u001b[49m\u001b[43m.\u001b[49m\u001b[43mstrip_chars\u001b[49m\u001b[43m(\u001b[49m\u001b[43m)\u001b[49m\u001b[43m.\u001b[49m\u001b[43mis_in\u001b[49m\u001b[43m(\u001b[49m\u001b[43m[\u001b[49m\u001b[33;43m'\u001b[39;49m\u001b[33;43m1\u001b[39;49m\u001b[33;43m'\u001b[39;49m\u001b[43m,\u001b[49m\u001b[33;43m'\u001b[39;49m\u001b[33;43m2\u001b[39;49m\u001b[33;43m'\u001b[39;49m\u001b[43m]\u001b[49m\u001b[43m)\u001b[49m\u001b[43m)\u001b[49m\u001b[43m.\u001b[49m\u001b[43mselect\u001b[49m\u001b[43m(\u001b[49m\n\u001b[32m      2\u001b[39m \u001b[43m    \u001b[49m\u001b[43mpl\u001b[49m\u001b[43m.\u001b[49m\u001b[43mcol\u001b[49m\u001b[43m(\u001b[49m\u001b[33;43m'\u001b[39;49m\u001b[33;43mVAC\u001b[39;49m\u001b[33;43m'\u001b[39;49m\u001b[43m)\u001b[49m\u001b[43m,\u001b[49m\n\u001b[32m      3\u001b[39m \u001b[43m    \u001b[49m\u001b[43mpl\u001b[49m\u001b[43m.\u001b[49m\u001b[43mcol\u001b[49m\u001b[43m(\u001b[49m\u001b[33;43m'\u001b[39;49m\u001b[33;43mcompleted\u001b[39;49m\u001b[33;43m'\u001b[39;49m\u001b[43m)\u001b[49m\u001b[43m,\u001b[49m\n\u001b[32m      4\u001b[39m \u001b[43m    \u001b[49m\u001b[43mpl\u001b[49m\u001b[43m.\u001b[49m\u001b[43mcol\u001b[49m\u001b[43m(\u001b[49m\u001b[33;43m'\u001b[39;49m\u001b[33;43mage\u001b[39;49m\u001b[33;43m'\u001b[39;49m\u001b[43m)\u001b[49m\u001b[43m,\u001b[49m\n\u001b[32m      5\u001b[39m \u001b[43m    \u001b[49m\u001b[43mpl\u001b[49m\u001b[43m.\u001b[49m\u001b[43mcol\u001b[49m\u001b[43m(\u001b[49m\u001b[33;43m'\u001b[39;49m\u001b[33;43msex\u001b[39;49m\u001b[33;43m'\u001b[39;49m\u001b[43m)\u001b[49m\u001b[43m.\u001b[49m\u001b[43mreplace\u001b[49m\u001b[43m(\u001b[49m\u001b[43m[\u001b[49m\u001b[33;43m'\u001b[39;49m\u001b[33;43mmale\u001b[39;49m\u001b[33;43m'\u001b[39;49m\u001b[43m,\u001b[49m\u001b[33;43m'\u001b[39;49m\u001b[33;43mfemale\u001b[39;49m\u001b[33;43m'\u001b[39;49m\u001b[43m]\u001b[49m\u001b[43m,\u001b[49m\u001b[43m[\u001b[49m\u001b[33;43m'\u001b[39;49m\u001b[33;43mM\u001b[39;49m\u001b[33;43m'\u001b[39;49m\u001b[43m,\u001b[49m\u001b[33;43m'\u001b[39;49m\u001b[33;43mF\u001b[39;49m\u001b[33;43m'\u001b[39;49m\u001b[43m]\u001b[49m\u001b[43m)\u001b[49m\u001b[43m,\u001b[49m\u001b[43m \u001b[49m\u001b[38;5;66;43;03m# needs to be checked,\u001b[39;49;00m\n\u001b[32m      6\u001b[39m \u001b[43m    \u001b[49m\u001b[43mpl\u001b[49m\u001b[43m.\u001b[49m\u001b[43mcol\u001b[49m\u001b[43m(\u001b[49m\u001b[33;43m'\u001b[39;49m\u001b[33;43msex\u001b[39;49m\u001b[33;43m'\u001b[39;49m\u001b[43m)\u001b[49m\u001b[43m.\u001b[49m\u001b[43mreplace\u001b[49m\u001b[43m(\u001b[49m\u001b[43m[\u001b[49m\u001b[33;43m'\u001b[39;49m\u001b[33;43mmale\u001b[39;49m\u001b[33;43m'\u001b[39;49m\u001b[43m,\u001b[49m\u001b[33;43m'\u001b[39;49m\u001b[33;43mfemale\u001b[39;49m\u001b[33;43m'\u001b[39;49m\u001b[43m]\u001b[49m\u001b[43m,\u001b[49m\u001b[43m[\u001b[49m\u001b[32;43m1\u001b[39;49m\u001b[43m,\u001b[49m\u001b[32;43m0\u001b[39;49m\u001b[43m]\u001b[49m\u001b[43m)\u001b[49m\u001b[43m.\u001b[49m\u001b[43mcast\u001b[49m\u001b[43m(\u001b[49m\u001b[43mpl\u001b[49m\u001b[43m.\u001b[49m\u001b[43mInt64\u001b[49m\u001b[43m)\u001b[49m\u001b[43m.\u001b[49m\u001b[43malias\u001b[49m\u001b[43m(\u001b[49m\u001b[33;43m'\u001b[39;49m\u001b[33;43msex_m\u001b[39;49m\u001b[33;43m'\u001b[39;49m\u001b[43m)\u001b[49m\u001b[43m,\u001b[49m\u001b[43m \u001b[49m\u001b[38;5;66;43;03m# needs to be checked,\u001b[39;49;00m\n\u001b[32m      7\u001b[39m \u001b[43m    \u001b[49m\u001b[38;5;66;43;03m# pl.col('sex_right').replace(['M','F'],['male','female']), # needs to be checked\u001b[39;49;00m\n\u001b[32m      8\u001b[39m \u001b[43m    \u001b[49m\u001b[43mpl\u001b[49m\u001b[43m.\u001b[49m\u001b[43mcol\u001b[49m\u001b[43m(\u001b[49m\u001b[33;43m'\u001b[39;49m\u001b[33;43meducation\u001b[39;49m\u001b[33;43m'\u001b[39;49m\u001b[43m)\u001b[49m\u001b[43m,\u001b[49m\n\u001b[32m      9\u001b[39m \u001b[43m    \u001b[49m\u001b[43mpl\u001b[49m\u001b[43m.\u001b[49m\u001b[43mcol\u001b[49m\u001b[43m(\u001b[49m\u001b[33;43m'\u001b[39;49m\u001b[33;43mis_telephone_encounter\u001b[39;49m\u001b[33;43m'\u001b[39;49m\u001b[43m)\u001b[49m\u001b[43m,\u001b[49m\n\u001b[32m     10\u001b[39m \u001b[43m    \u001b[49m\u001b[43mpl\u001b[49m\u001b[43m.\u001b[49m\u001b[43mcol\u001b[49m\u001b[43m(\u001b[49m\u001b[33;43m'\u001b[39;49m\u001b[33;43mmoca_total_score\u001b[39;49m\u001b[33;43m'\u001b[39;49m\u001b[43m)\u001b[49m\u001b[43m,\u001b[49m\n\u001b[32m     11\u001b[39m \u001b[43m    \u001b[49m\u001b[43mpl\u001b[49m\u001b[43m.\u001b[49m\u001b[43mcol\u001b[49m\u001b[43m(\u001b[49m\u001b[33;43m'\u001b[39;49m\u001b[33;43mmmse_total_score\u001b[39;49m\u001b[33;43m'\u001b[39;49m\u001b[43m)\u001b[49m\u001b[43m,\u001b[49m\n\u001b[32m     12\u001b[39m \u001b[43m    \u001b[49m\u001b[43mpl\u001b[49m\u001b[43m.\u001b[49m\u001b[43mcol\u001b[49m\u001b[43m(\u001b[49m\u001b[33;43m'\u001b[39;49m\u001b[33;43mgds_total_score\u001b[39;49m\u001b[33;43m'\u001b[39;49m\u001b[43m)\u001b[49m\u001b[43m,\u001b[49m\n\u001b[32m     13\u001b[39m \u001b[43m    \u001b[49m\u001b[43mpl\u001b[49m\u001b[43m.\u001b[49m\u001b[43mcol\u001b[49m\u001b[43m(\u001b[49m\u001b[33;43m'\u001b[39;49m\u001b[33;43mgai_total_score\u001b[39;49m\u001b[33;43m'\u001b[39;49m\u001b[43m)\u001b[49m\u001b[43m,\u001b[49m\n\u001b[32m     14\u001b[39m \u001b[43m    \u001b[49m\u001b[43mpl\u001b[49m\u001b[43m.\u001b[49m\u001b[43mcol\u001b[49m\u001b[43m(\u001b[49m\u001b[33;43m'\u001b[39;49m\u001b[33;43mlubben_total_score\u001b[39;49m\u001b[33;43m'\u001b[39;49m\u001b[43m)\u001b[49m\u001b[43m,\u001b[49m\n\u001b[32m     15\u001b[39m \u001b[43m    \u001b[49m\u001b[43mpl\u001b[49m\u001b[43m.\u001b[49m\u001b[43mcol\u001b[49m\u001b[43m(\u001b[49m\u001b[33;43m'\u001b[39;49m\u001b[33;43mucla_loneliness_total_score\u001b[39;49m\u001b[33;43m'\u001b[39;49m\u001b[43m)\u001b[49m\u001b[43m,\u001b[49m\n\u001b[32m     16\u001b[39m \u001b[43m    \u001b[49m\u001b[43mpl\u001b[49m\u001b[43m.\u001b[49m\u001b[43mcol\u001b[49m\u001b[43m(\u001b[49m\u001b[33;43m'\u001b[39;49m\u001b[33;43mletter_fluency_total\u001b[39;49m\u001b[33;43m'\u001b[39;49m\u001b[43m)\u001b[49m\u001b[43m,\u001b[49m\n\u001b[32m     17\u001b[39m \u001b[43m    \u001b[49m\u001b[43mpl\u001b[49m\u001b[43m.\u001b[49m\u001b[43mcol\u001b[49m\u001b[43m(\u001b[49m\u001b[33;43m'\u001b[39;49m\u001b[33;43mcategory_fluency_total\u001b[39;49m\u001b[33;43m'\u001b[39;49m\u001b[43m)\u001b[49m\u001b[43m,\u001b[49m\n\u001b[32m     18\u001b[39m \u001b[43m    \u001b[49m\u001b[38;5;66;43;03m# pl.col('cerad_rapid_forgetting'),\u001b[39;49;00m\n\u001b[32m     19\u001b[39m \u001b[43m    \u001b[49m\u001b[43mcs\u001b[49m\u001b[43m.\u001b[49m\u001b[43mcontains\u001b[49m\u001b[43m(\u001b[49m\u001b[33;43m'\u001b[39;49m\u001b[33;43mcerad\u001b[39;49m\u001b[33;43m'\u001b[39;49m\u001b[43m)\u001b[49m\u001b[43m,\u001b[49m\n\u001b[32m     20\u001b[39m \u001b[43m    \u001b[49m\u001b[43mpl\u001b[49m\u001b[43m.\u001b[49m\u001b[43mcol\u001b[49m\u001b[43m(\u001b[49m\u001b[33;43m'\u001b[39;49m\u001b[33;43mPET result 1.Normal 2.Abnormal\u001b[39;49m\u001b[33;43m'\u001b[39;49m\u001b[43m)\u001b[49m\u001b[43m.\u001b[49m\u001b[43malias\u001b[49m\u001b[43m(\u001b[49m\u001b[33;43m'\u001b[39;49m\u001b[33;43mapet\u001b[39;49m\u001b[33;43m'\u001b[39;49m\u001b[43m)\u001b[49m\u001b[43m.\u001b[49m\u001b[43mreplace\u001b[49m\u001b[43m(\u001b[49m\u001b[43m[\u001b[49m\u001b[33;43m'\u001b[39;49m\u001b[33;43m1\u001b[39;49m\u001b[33;43m'\u001b[39;49m\u001b[43m,\u001b[49m\u001b[33;43m'\u001b[39;49m\u001b[33;43m2\u001b[39;49m\u001b[33;43m'\u001b[39;49m\u001b[43m]\u001b[49m\u001b[43m,\u001b[49m\u001b[43m[\u001b[49m\u001b[33;43m'\u001b[39;49m\u001b[33;43mnormal\u001b[39;49m\u001b[33;43m'\u001b[39;49m\u001b[43m,\u001b[49m\u001b[33;43m'\u001b[39;49m\u001b[33;43mabnormal\u001b[39;49m\u001b[33;43m'\u001b[39;49m\u001b[43m]\u001b[49m\u001b[43m)\u001b[49m\n\u001b[32m     21\u001b[39m \u001b[43m)\u001b[49m\n",
      "\u001b[36mFile \u001b[39m\u001b[32m/projectnb/vkolagrp/bellitti/clinicalnotes-databasing-validated/.venv/lib/python3.12/site-packages/polars/dataframe/frame.py:9990\u001b[39m, in \u001b[36mDataFrame.select\u001b[39m\u001b[34m(self, *exprs, **named_exprs)\u001b[39m\n\u001b[32m   9906\u001b[39m \u001b[38;5;250m\u001b[39m\u001b[33;03m\"\"\"\u001b[39;00m\n\u001b[32m   9907\u001b[39m \u001b[33;03mSelect columns from this DataFrame.\u001b[39;00m\n\u001b[32m   9908\u001b[39m \n\u001b[32m   (...)\u001b[39m\u001b[32m   9983\u001b[39m \u001b[33;03m└───────────┘\u001b[39;00m\n\u001b[32m   9984\u001b[39m \u001b[33;03m\"\"\"\u001b[39;00m\n\u001b[32m   9985\u001b[39m \u001b[38;5;28;01mfrom\u001b[39;00m\u001b[38;5;250m \u001b[39m\u001b[34;01mpolars\u001b[39;00m\u001b[34;01m.\u001b[39;00m\u001b[34;01mlazyframe\u001b[39;00m\u001b[34;01m.\u001b[39;00m\u001b[34;01mopt_flags\u001b[39;00m\u001b[38;5;250m \u001b[39m\u001b[38;5;28;01mimport\u001b[39;00m QueryOptFlags\n\u001b[32m   9987\u001b[39m \u001b[38;5;28;01mreturn\u001b[39;00m (\n\u001b[32m   9988\u001b[39m     \u001b[38;5;28;43mself\u001b[39;49m\u001b[43m.\u001b[49m\u001b[43mlazy\u001b[49m\u001b[43m(\u001b[49m\u001b[43m)\u001b[49m\n\u001b[32m   9989\u001b[39m \u001b[43m    \u001b[49m\u001b[43m.\u001b[49m\u001b[43mselect\u001b[49m\u001b[43m(\u001b[49m\u001b[43m*\u001b[49m\u001b[43mexprs\u001b[49m\u001b[43m,\u001b[49m\u001b[43m \u001b[49m\u001b[43m*\u001b[49m\u001b[43m*\u001b[49m\u001b[43mnamed_exprs\u001b[49m\u001b[43m)\u001b[49m\n\u001b[32m-> \u001b[39m\u001b[32m9990\u001b[39m \u001b[43m    \u001b[49m\u001b[43m.\u001b[49m\u001b[43mcollect\u001b[49m\u001b[43m(\u001b[49m\u001b[43moptimizations\u001b[49m\u001b[43m=\u001b[49m\u001b[43mQueryOptFlags\u001b[49m\u001b[43m.\u001b[49m\u001b[43m_eager\u001b[49m\u001b[43m(\u001b[49m\u001b[43m)\u001b[49m\u001b[43m)\u001b[49m\n\u001b[32m   9991\u001b[39m )\n",
      "\u001b[36mFile \u001b[39m\u001b[32m/projectnb/vkolagrp/bellitti/clinicalnotes-databasing-validated/.venv/lib/python3.12/site-packages/polars/_utils/deprecation.py:97\u001b[39m, in \u001b[36mdeprecate_streaming_parameter.<locals>.decorate.<locals>.wrapper\u001b[39m\u001b[34m(*args, **kwargs)\u001b[39m\n\u001b[32m     93\u001b[39m         kwargs[\u001b[33m\"\u001b[39m\u001b[33mengine\u001b[39m\u001b[33m\"\u001b[39m] = \u001b[33m\"\u001b[39m\u001b[33min-memory\u001b[39m\u001b[33m\"\u001b[39m\n\u001b[32m     95\u001b[39m     \u001b[38;5;28;01mdel\u001b[39;00m kwargs[\u001b[33m\"\u001b[39m\u001b[33mstreaming\u001b[39m\u001b[33m\"\u001b[39m]\n\u001b[32m---> \u001b[39m\u001b[32m97\u001b[39m \u001b[38;5;28;01mreturn\u001b[39;00m \u001b[43mfunction\u001b[49m\u001b[43m(\u001b[49m\u001b[43m*\u001b[49m\u001b[43margs\u001b[49m\u001b[43m,\u001b[49m\u001b[43m \u001b[49m\u001b[43m*\u001b[49m\u001b[43m*\u001b[49m\u001b[43mkwargs\u001b[49m\u001b[43m)\u001b[49m\n",
      "\u001b[36mFile \u001b[39m\u001b[32m/projectnb/vkolagrp/bellitti/clinicalnotes-databasing-validated/.venv/lib/python3.12/site-packages/polars/lazyframe/opt_flags.py:330\u001b[39m, in \u001b[36mforward_old_opt_flags.<locals>.decorate.<locals>.wrapper\u001b[39m\u001b[34m(*args, **kwargs)\u001b[39m\n\u001b[32m    327\u001b[39m         optflags = cb(optflags, kwargs.pop(key))  \u001b[38;5;66;03m# type: ignore[no-untyped-call,unused-ignore]\u001b[39;00m\n\u001b[32m    329\u001b[39m kwargs[\u001b[33m\"\u001b[39m\u001b[33moptimizations\u001b[39m\u001b[33m\"\u001b[39m] = optflags\n\u001b[32m--> \u001b[39m\u001b[32m330\u001b[39m \u001b[38;5;28;01mreturn\u001b[39;00m \u001b[43mfunction\u001b[49m\u001b[43m(\u001b[49m\u001b[43m*\u001b[49m\u001b[43margs\u001b[49m\u001b[43m,\u001b[49m\u001b[43m \u001b[49m\u001b[43m*\u001b[49m\u001b[43m*\u001b[49m\u001b[43mkwargs\u001b[49m\u001b[43m)\u001b[49m\n",
      "\u001b[36mFile \u001b[39m\u001b[32m/projectnb/vkolagrp/bellitti/clinicalnotes-databasing-validated/.venv/lib/python3.12/site-packages/polars/lazyframe/frame.py:2407\u001b[39m, in \u001b[36mLazyFrame.collect\u001b[39m\u001b[34m(self, type_coercion, predicate_pushdown, projection_pushdown, simplify_expression, slice_pushdown, comm_subplan_elim, comm_subexpr_elim, cluster_with_columns, collapse_joins, no_optimization, engine, background, optimizations, **_kwargs)\u001b[39m\n\u001b[32m   2405\u001b[39m \u001b[38;5;66;03m# Only for testing purposes\u001b[39;00m\n\u001b[32m   2406\u001b[39m callback = _kwargs.get(\u001b[33m\"\u001b[39m\u001b[33mpost_opt_callback\u001b[39m\u001b[33m\"\u001b[39m, callback)\n\u001b[32m-> \u001b[39m\u001b[32m2407\u001b[39m \u001b[38;5;28;01mreturn\u001b[39;00m wrap_df(\u001b[43mldf\u001b[49m\u001b[43m.\u001b[49m\u001b[43mcollect\u001b[49m\u001b[43m(\u001b[49m\u001b[43mengine\u001b[49m\u001b[43m,\u001b[49m\u001b[43m \u001b[49m\u001b[43mcallback\u001b[49m\u001b[43m)\u001b[49m)\n",
      "\u001b[31mColumnNotFoundError\u001b[39m: unable to find column \"completed\"; valid columns: [\"VAC\", \"Data collection by\", \"# Appts: 1,2,3,4,5,6, NA (duplicate)\", \"Age At Consult\", \"Year of Birth\", \"sex\", \"Educ Yrs\", \"Race 1.Caucasian 2. Africanamerican 3. Asian 4.other\", \"ethnicity 0.non hispanic 1.hispanic\", \"occupation 1. working 2. retired 3. unemployed\", \"Marital status 1. Single never married 2. married 3. divorced/widowed\", \"living situation 1. Alone 2. Family 3. CRC 4. ALF 5. NH 6. inpatient\", \"aPET 0. No 1. Yes\", \"Date Performed\", \"# of visits until PET ordered\", \"PET result 1.Normal 2.Abnormal\", \"1st Appt Date\", \"MOCA\", \"t-MOCA\", \"Function 1.independent 2. dep any iADLs 3. dependent all iADLs 4.  dep any bADLs 5. dependent all bADLs \", \"Behavioral disturbance 0. No 1. Yes (anger, irritability, disinhibition)\", \"Cognitive syndrome 1st 1.Unimpaired 2.SCD 3. MCI 4. Dementia\", \"NBSE Date\", \"Second visit date\", \"MoCA\", \"t-MOCA_1\", \"Function 1.independent 2. dep any iADLs 3. dependent all iADLs 4.  dep any bADLs 5. dependent all bADLs _1\", \"Behavioral disturbance 0.No 1.Yes\", \"Cognitive syndrome 2nd 1.Unimpaired 2.SCD 3. MCI 4. Dementia\", \"Medication Change 0.No 1.Yes\", \"Living situation change 0.No 1.Yes\", \"DC'd 0.no 1.yes\", \"3rd Visit\", \"MOCA Total\", \"t-MOCA_2\", \"Function 1.independent 2. dep any iADLs 3. dependent all iADLs 4.  dep any bADLs 5. dependent all bADLs _2\", \"Behavioral disturbance  0.No 1.Yes\", \"Cognitive syndrome 1st 1.Unimpaired 2.SCD 3. MCI 4. Dementia_1\", \"Med Change 0.No 1.Yes\", \"Living situation change 0.No 1.Yes_1\", \"DC'd 0.no 1.yes_1\", \"Fourth fu date\", \"MOCA Total_1\", \"t-MoCA\", \"Function 1.independent 2. dep any iADLs 3. dependent all iADLs 4.  dep any bADLs 5. dependent all bADLs _3\", \"Behavioral disturbance  0.No 1.Yes_1\", \"Cognitive syndrome 1st 1.Unimpaired 2.SCD 3. MCI 4. Dementia_2\", \"Med Change 0.No 1.Yes_1\", \"Living situation change 0.No 1.Yes_2\", \"Discharged0.no 1.yes\", \"Fifth fu date\", \"MOCA Total_2\", \"t-MoCA_1\", \"Function 1.independent 2. dep any iADLs 3. dependent all iADLs 4.  dep any bADLs 5. dependent all bADLs _4\", \"Behavioral disturbance  0.No 1.Yes_2\", \"Cognitive syndrome 1st 1.Unimpaired 2.SCD 3. MCI 4. Dementia_3\", \"Medication Change 0.No 1.Yes_1\", \"Living situation change 0.No 1.Yes_3\", \"Discharged0.no 1.yes_1\", \"Sixth fu date\", \"MOCA_1\", \"t-MOCA_3\", \"Function 1.independent 2. dep any iADLs 3. dependent all iADLs 4.  dep any bADLs 5. dependent all bADLs _5\", \"Behavioral disturbance  0.No 1.Yes_3\", \"Cognitive syndrome 1st 1.Unimpaired 2.SCD 3. MCI 4. Dementia_4\", \"Med Change 0.No 1.Yes_2\", \"Living Situation Changed 0. No 1. Yes\", \"Discharged0.no 1.yes_2\"]"
     ]
    }
   ],
   "source": [
    "apet = demog.filter(pl.col('PET result 1.Normal 2.Abnormal').str.strip_chars().is_in(['1','2'])).select(\n",
    "    pl.col('VAC'),\n",
    "    pl.col('age'),\n",
    "    pl.col('sex').replace(['male','female'],['M','F']), # needs to be checked,\n",
    "    pl.col('sex').replace(['male','female'],[1,0]).cast(pl.Int64).alias('sex_m'), # needs to be checked,\n",
    "    # pl.col('sex_right').replace(['M','F'],['male','female']), # needs to be checked\n",
    "    pl.col('education'),\n",
    "    pl.col('is_telephone_encounter'),\n",
    "    pl.col('moca_total_score'),\n",
    "    pl.col('mmse_total_score'),\n",
    "    pl.col('gds_total_score'),\n",
    "    pl.col('gai_total_score'),\n",
    "    pl.col('lubben_total_score'),\n",
    "    pl.col('ucla_loneliness_total_score'),\n",
    "    pl.col('letter_fluency_total'),\n",
    "    pl.col('category_fluency_total'),\n",
    "    # pl.col('cerad_rapid_forgetting'),\n",
    "    cs.contains('cerad'),\n",
    "    pl.col('PET result 1.Normal 2.Abnormal').alias('apet').replace(['1','2'],['normal','abnormal'])\n",
    ")"
   ]
  },
  {
   "cell_type": "code",
   "execution_count": 8,
   "metadata": {},
   "outputs": [
    {
     "data": {
      "text/html": [
       "<div><style>\n",
       ".dataframe > thead > tr,\n",
       ".dataframe > tbody > tr {\n",
       "  text-align: right;\n",
       "  white-space: pre-wrap;\n",
       "}\n",
       "</style>\n",
       "<small>shape: (1, 35)</small><table border=\"1\" class=\"dataframe\"><thead><tr><th>filename</th><th>VAC</th><th>completed</th><th>age</th><th>sex</th><th>sex_m</th><th>education</th><th>is_telephone_encounter</th><th>moca_total_score</th><th>mmse_total_score</th><th>gds_total_score</th><th>gai_total_score</th><th>lubben_total_score</th><th>ucla_loneliness_total_score</th><th>letter_fluency_total</th><th>category_fluency_total</th><th>cerad_encoding_trials</th><th>cerad_encoding_total</th><th>cerad_delayed_recall</th><th>cerad_recognition_hits</th><th>cerad_false_positives</th><th>cerad_corrected_recognition_total</th><th>cerad_rapid_forgetting</th><th>cerad_notes</th><th>cerad_rapid_forgetting_words_cabin</th><th>cerad_rapid_forgetting_words_pole</th><th>cerad_rapid_forgetting_words_queen</th><th>cerad_rapid_forgetting_words_ticket</th><th>cerad_rapid_forgetting_words_engine</th><th>cerad_rapid_forgetting_words_grass</th><th>cerad_rapid_forgetting_words_arm</th><th>cerad_rapid_forgetting_words_shore</th><th>cerad_rapid_forgetting_words_letter</th><th>cerad_rapid_forgetting_words_butter</th><th>apet</th></tr><tr><td>str</td><td>i64</td><td>date</td><td>i64</td><td>str</td><td>i64</td><td>i64</td><td>bool</td><td>i64</td><td>i64</td><td>i64</td><td>i64</td><td>i64</td><td>i64</td><td>i64</td><td>i64</td><td>list[i64]</td><td>i64</td><td>i64</td><td>i64</td><td>i64</td><td>i64</td><td>i64</td><td>str</td><td>i64</td><td>i64</td><td>i64</td><td>i64</td><td>i64</td><td>i64</td><td>i64</td><td>i64</td><td>i64</td><td>i64</td><td>str</td></tr></thead><tbody><tr><td>&quot;VAC1018_JND_DA.aeb-no changees…</td><td>1018</td><td>2020-11-06</td><td>60</td><td>&quot;M&quot;</td><td>1</td><td>14</td><td>true</td><td>23</td><td>null</td><td>10</td><td>12</td><td>null</td><td>null</td><td>26</td><td>32</td><td>[3, 4, 4]</td><td>11</td><td>4</td><td>7</td><td>0</td><td>7</td><td>1</td><td>&quot;Note that these results are to…</td><td>null</td><td>null</td><td>1</td><td>null</td><td>null</td><td>null</td><td>null</td><td>null</td><td>null</td><td>null</td><td>&quot;normal&quot;</td></tr></tbody></table></div>"
      ],
      "text/plain": [
       "shape: (1, 35)\n",
       "┌──────────────┬──────┬────────────┬─────┬───┬──────────────┬──────────────┬──────────────┬────────┐\n",
       "│ filename     ┆ VAC  ┆ completed  ┆ age ┆ … ┆ cerad_rapid_ ┆ cerad_rapid_ ┆ cerad_rapid_ ┆ apet   │\n",
       "│ ---          ┆ ---  ┆ ---        ┆ --- ┆   ┆ forgetting_w ┆ forgetting_w ┆ forgetting_w ┆ ---    │\n",
       "│ str          ┆ i64  ┆ date       ┆ i64 ┆   ┆ ords_s…      ┆ ords_l…      ┆ ords_b…      ┆ str    │\n",
       "│              ┆      ┆            ┆     ┆   ┆ ---          ┆ ---          ┆ ---          ┆        │\n",
       "│              ┆      ┆            ┆     ┆   ┆ i64          ┆ i64          ┆ i64          ┆        │\n",
       "╞══════════════╪══════╪════════════╪═════╪═══╪══════════════╪══════════════╪══════════════╪════════╡\n",
       "│ VAC1018_JND_ ┆ 1018 ┆ 2020-11-06 ┆ 60  ┆ … ┆ null         ┆ null         ┆ null         ┆ normal │\n",
       "│ DA.aeb-no    ┆      ┆            ┆     ┆   ┆              ┆              ┆              ┆        │\n",
       "│ changees…    ┆      ┆            ┆     ┆   ┆              ┆              ┆              ┆        │\n",
       "└──────────────┴──────┴────────────┴─────┴───┴──────────────┴──────────────┴──────────────┴────────┘"
      ]
     },
     "execution_count": 8,
     "metadata": {},
     "output_type": "execute_result"
    }
   ],
   "source": [
    "apet.head(1)"
   ]
  },
  {
   "cell_type": "code",
   "execution_count": 9,
   "metadata": {},
   "outputs": [],
   "source": [
    "import polars as pl\n",
    "import numpy as np\n",
    "from sklearn.linear_model import LogisticRegression\n",
    "from sklearn.model_selection import StratifiedKFold\n",
    "from sklearn.metrics import accuracy_score, precision_score, recall_score\n",
    "\n",
    "def logistic_regression_metrics_with_coefs(df: pl.DataFrame, predictor_cols: list, target_col: str, random_state: int = 42):\n",
    "    \"\"\"\n",
    "    Fit a logistic regression on a Polars DataFrame with 5-fold CV, computing metrics and coefficients\n",
    "    with error bars.\n",
    "\n",
    "    Returns a dictionary with:\n",
    "    - metrics: dict of mean and std for accuracy, recall, precision, recall_neg, precision_neg\n",
    "    - coefficients: dict with raw coefficients and odds ratios (mean ± std) for each predictor\n",
    "    \"\"\"\n",
    "    # Convert to NumPy arrays\n",
    "    X = df.select(predictor_cols).to_numpy()\n",
    "    y = df[target_col].to_numpy()\n",
    "\n",
    "    model = LogisticRegression(max_iter=1000, random_state=random_state)\n",
    "    cv = StratifiedKFold(n_splits=5, shuffle=True, random_state=random_state)\n",
    "\n",
    "    # Metrics storage\n",
    "    metrics_storage = { \"Accuracy\": [], \"Sensitivity\": [], \"PPV\": [], \"Specificity\": [], \"NPV\": [] }\n",
    "    coef_storage = []\n",
    "\n",
    "    for train_idx, test_idx in cv.split(X, y):\n",
    "        X_train, X_test = X[train_idx], X[test_idx]\n",
    "        y_train, y_test = y[train_idx], y[test_idx]\n",
    "\n",
    "        model.fit(X_train, y_train)\n",
    "        y_pred = model.predict(X_test)\n",
    "\n",
    "        metrics_storage[\"Accuracy\"].append(accuracy_score(y_test, y_pred))\n",
    "        metrics_storage[\"Sensitivity\"].append(recall_score(y_test, y_pred,pos_label='abnormal'))\n",
    "        metrics_storage[\"Specificity\"].append(recall_score(y_test, y_pred, pos_label='normal'))\n",
    "        metrics_storage[\"PPV\"].append(precision_score(y_test, y_pred,pos_label='abnormal'))\n",
    "        metrics_storage[\"NPV\"].append(precision_score(y_test, y_pred, pos_label='normal'))\n",
    "\n",
    "        coef_storage.append(model.coef_[0])  # shape: (n_features,)\n",
    "\n",
    "    coef_storage = np.array(coef_storage)  # shape: (n_folds, n_features)\n",
    "\n",
    "    coef_dict = {}\n",
    "    for i, col in enumerate(predictor_cols):\n",
    "        raw_coef = coef_storage[:, i]\n",
    "        odds_ratio = np.exp(raw_coef)\n",
    "        coef_dict[col] = {\n",
    "            \"raw_coef_mean\": raw_coef.mean(),\n",
    "            \"raw_coef_std\": raw_coef.std(),\n",
    "            \"odds_ratio_mean\": odds_ratio.mean(),\n",
    "            \"odds_ratio_std\": odds_ratio.std()\n",
    "        }\n",
    "\n",
    "    # Aggregate metrics\n",
    "    metrics_dict = {k: {\"mean\": np.mean(v), \"std\": np.std(v)} for k, v in metrics_storage.items()}\n",
    "\n",
    "    return {\"metrics\": metrics_dict, \"coefficients\": coef_dict}\n",
    "\n",
    "\n",
    "def results_to_polars_df(results):\n",
    "    \"\"\"\n",
    "    Convert logistic regression results dictionary to Polars DataFrames:\n",
    "    - metrics_df: metrics with mean and std\n",
    "    - coefficients_df: coefficients with raw and odds ratio stats\n",
    "    Returns a dictionary of Polars DataFrames.\n",
    "    \"\"\"\n",
    "    metrics_data = []\n",
    "    for metric, stats in results['metrics'].items():\n",
    "        metrics_data.append({\n",
    "            \"metric\": metric,\n",
    "            \"mean\": stats['mean'],\n",
    "            \"std\": stats['std']\n",
    "        })\n",
    "    metrics_df = pl.DataFrame(metrics_data)\n",
    "\n",
    "    coef_data = []\n",
    "    for feature, stats in results['coefficients'].items():\n",
    "        coef_data.append({\n",
    "            \"feature\": feature,\n",
    "            \"raw_coef_mean\": stats['raw_coef_mean'],\n",
    "            \"raw_coef_std\": stats['raw_coef_std'],\n",
    "            \"odds_ratio_mean\": stats['odds_ratio_mean'],\n",
    "            \"odds_ratio_std\": stats['odds_ratio_std']\n",
    "        })\n",
    "    coefficients_df = pl.DataFrame(coef_data)\n",
    "\n",
    "    return {\"metrics_df\": metrics_df, \"coefficients_df\": coefficients_df}\n"
   ]
  },
  {
   "cell_type": "code",
   "execution_count": 10,
   "metadata": {},
   "outputs": [],
   "source": [
    "import matplotlib.pyplot as plt\n",
    "import numpy as np\n",
    "plt.style.use(\"ggplot\")\n",
    "\n",
    "def plot_logistic_results_clean(results):\n",
    "    \"\"\"\n",
    "    Plot metrics and coefficients side by side using ggplot style and narrow bars.\n",
    "    \"\"\"\n",
    "\n",
    "    metrics = results['metrics']\n",
    "    coefs = results['coefficients']\n",
    "\n",
    "    fig, axes = plt.subplots(1, 2, figsize=(5,4))\n",
    "\n",
    "    metric_names = list(metrics.keys())\n",
    "    means = [metrics[m]['mean'] for m in metric_names]\n",
    "    stds = [metrics[m]['std'] for m in metric_names]\n",
    "\n",
    "    axes[0].errorbar(metric_names, means, yerr=stds, marker='.', capsize=5,ls='none')\n",
    "    axes[0].set_ylabel('Score')\n",
    "    axes[0].set_title('Cross-validated Metrics',size=10)\n",
    "    # axes[0].set_ylim(0, 1)\n",
    "    axes[0].set_xticks(axes[0].get_xticks(),metric_names,rotation='vertical')\n",
    "\n",
    "    feature_names = list(coefs.keys())\n",
    "    odds_mean = [coefs[f]['odds_ratio_mean'] for f in feature_names]\n",
    "    odds_std = [coefs[f]['odds_ratio_std'] for f in feature_names]\n",
    "\n",
    "    axes[1].errorbar(feature_names, odds_mean, yerr=odds_std, marker='.', capsize=5, ls='none')\n",
    "    axes[1].set_ylabel('Odds Ratio')\n",
    "    axes[1].set_title('Odds Ratios',size=10)\n",
    "    axes[1].axhline(1, color='gray', linestyle='--')  # reference line for OR=1\n",
    "    axes[1].set_xticks(axes[1].get_xticks(),feature_names,rotation='vertical')\n",
    "\n",
    "    plt.tight_layout()\n",
    "    plt.show()\n"
   ]
  },
  {
   "cell_type": "code",
   "execution_count": 11,
   "metadata": {},
   "outputs": [
    {
     "data": {
      "text/html": [
       "<div><style>\n",
       ".dataframe > thead > tr,\n",
       ".dataframe > tbody > tr {\n",
       "  text-align: right;\n",
       "  white-space: pre-wrap;\n",
       "}\n",
       "</style>\n",
       "<small>shape: (1, 35)</small><table border=\"1\" class=\"dataframe\"><thead><tr><th>filename</th><th>VAC</th><th>completed</th><th>age</th><th>sex</th><th>sex_m</th><th>education</th><th>is_telephone_encounter</th><th>moca_total_score</th><th>mmse_total_score</th><th>gds_total_score</th><th>gai_total_score</th><th>lubben_total_score</th><th>ucla_loneliness_total_score</th><th>letter_fluency_total</th><th>category_fluency_total</th><th>cerad_encoding_trials</th><th>cerad_encoding_total</th><th>cerad_delayed_recall</th><th>cerad_recognition_hits</th><th>cerad_false_positives</th><th>cerad_corrected_recognition_total</th><th>cerad_rapid_forgetting</th><th>cerad_notes</th><th>cerad_rapid_forgetting_words_cabin</th><th>cerad_rapid_forgetting_words_pole</th><th>cerad_rapid_forgetting_words_queen</th><th>cerad_rapid_forgetting_words_ticket</th><th>cerad_rapid_forgetting_words_engine</th><th>cerad_rapid_forgetting_words_grass</th><th>cerad_rapid_forgetting_words_arm</th><th>cerad_rapid_forgetting_words_shore</th><th>cerad_rapid_forgetting_words_letter</th><th>cerad_rapid_forgetting_words_butter</th><th>apet</th></tr><tr><td>str</td><td>i64</td><td>date</td><td>i64</td><td>str</td><td>i64</td><td>i64</td><td>bool</td><td>i64</td><td>i64</td><td>i64</td><td>i64</td><td>i64</td><td>i64</td><td>i64</td><td>i64</td><td>list[i64]</td><td>i64</td><td>i64</td><td>i64</td><td>i64</td><td>i64</td><td>i64</td><td>str</td><td>i64</td><td>i64</td><td>i64</td><td>i64</td><td>i64</td><td>i64</td><td>i64</td><td>i64</td><td>i64</td><td>i64</td><td>str</td></tr></thead><tbody><tr><td>&quot;VAC1018_JND_DA.aeb-no changees…</td><td>1018</td><td>2020-11-06</td><td>60</td><td>&quot;M&quot;</td><td>1</td><td>14</td><td>true</td><td>23</td><td>null</td><td>10</td><td>12</td><td>null</td><td>null</td><td>26</td><td>32</td><td>[3, 4, 4]</td><td>11</td><td>4</td><td>7</td><td>0</td><td>7</td><td>1</td><td>&quot;Note that these results are to…</td><td>null</td><td>null</td><td>1</td><td>null</td><td>null</td><td>null</td><td>null</td><td>null</td><td>null</td><td>null</td><td>&quot;normal&quot;</td></tr></tbody></table></div>"
      ],
      "text/plain": [
       "shape: (1, 35)\n",
       "┌──────────────┬──────┬────────────┬─────┬───┬──────────────┬──────────────┬──────────────┬────────┐\n",
       "│ filename     ┆ VAC  ┆ completed  ┆ age ┆ … ┆ cerad_rapid_ ┆ cerad_rapid_ ┆ cerad_rapid_ ┆ apet   │\n",
       "│ ---          ┆ ---  ┆ ---        ┆ --- ┆   ┆ forgetting_w ┆ forgetting_w ┆ forgetting_w ┆ ---    │\n",
       "│ str          ┆ i64  ┆ date       ┆ i64 ┆   ┆ ords_s…      ┆ ords_l…      ┆ ords_b…      ┆ str    │\n",
       "│              ┆      ┆            ┆     ┆   ┆ ---          ┆ ---          ┆ ---          ┆        │\n",
       "│              ┆      ┆            ┆     ┆   ┆ i64          ┆ i64          ┆ i64          ┆        │\n",
       "╞══════════════╪══════╪════════════╪═════╪═══╪══════════════╪══════════════╪══════════════╪════════╡\n",
       "│ VAC1018_JND_ ┆ 1018 ┆ 2020-11-06 ┆ 60  ┆ … ┆ null         ┆ null         ┆ null         ┆ normal │\n",
       "│ DA.aeb-no    ┆      ┆            ┆     ┆   ┆              ┆              ┆              ┆        │\n",
       "│ changees…    ┆      ┆            ┆     ┆   ┆              ┆              ┆              ┆        │\n",
       "└──────────────┴──────┴────────────┴─────┴───┴──────────────┴──────────────┴──────────────┴────────┘"
      ]
     },
     "execution_count": 11,
     "metadata": {},
     "output_type": "execute_result"
    }
   ],
   "source": [
    "apet.head(1)"
   ]
  },
  {
   "cell_type": "code",
   "execution_count": 12,
   "metadata": {},
   "outputs": [
    {
     "data": {
      "text/html": [
       "<div><style>\n",
       ".dataframe > thead > tr,\n",
       ".dataframe > tbody > tr {\n",
       "  text-align: right;\n",
       "  white-space: pre-wrap;\n",
       "}\n",
       "</style>\n",
       "<small>shape: (7, 6)</small><table border=\"1\" class=\"dataframe\"><thead><tr><th>statistic</th><th>age</th><th>sex_m</th><th>education</th><th>moca_total_score</th><th>apet</th></tr><tr><td>str</td><td>f64</td><td>f64</td><td>f64</td><td>f64</td><td>str</td></tr></thead><tbody><tr><td>&quot;count&quot;</td><td>272.000</td><td>272.000</td><td>272.000</td><td>272.000</td><td>&quot;272&quot;</td></tr><tr><td>&quot;null_count&quot;</td><td>0.000</td><td>0.000</td><td>0.000</td><td>0.000</td><td>&quot;0&quot;</td></tr><tr><td>&quot;mean&quot;</td><td>72.272</td><td>0.952</td><td>14.088</td><td>20.125</td><td>null</td></tr><tr><td>&quot;std&quot;</td><td>6.411</td><td>0.214</td><td>2.624</td><td>4.115</td><td>null</td></tr><tr><td>&quot;min&quot;</td><td>49.000</td><td>0.000</td><td>4.000</td><td>2.000</td><td>&quot;abnormal&quot;</td></tr><tr><td>&quot;50%&quot;</td><td>73.000</td><td>1.000</td><td>14.000</td><td>20.000</td><td>null</td></tr><tr><td>&quot;max&quot;</td><td>89.000</td><td>1.000</td><td>25.000</td><td>30.000</td><td>&quot;normal&quot;</td></tr></tbody></table></div>"
      ],
      "text/plain": [
       "shape: (7, 6)\n",
       "┌────────────┬─────────┬─────────┬───────────┬──────────────────┬──────────┐\n",
       "│ statistic  ┆ age     ┆ sex_m   ┆ education ┆ moca_total_score ┆ apet     │\n",
       "│ ---        ┆ ---     ┆ ---     ┆ ---       ┆ ---              ┆ ---      │\n",
       "│ str        ┆ f64     ┆ f64     ┆ f64       ┆ f64              ┆ str      │\n",
       "╞════════════╪═════════╪═════════╪═══════════╪══════════════════╪══════════╡\n",
       "│ count      ┆ 272.000 ┆ 272.000 ┆ 272.000   ┆ 272.000          ┆ 272      │\n",
       "│ null_count ┆ 0.000   ┆ 0.000   ┆ 0.000     ┆ 0.000            ┆ 0        │\n",
       "│ mean       ┆ 72.272  ┆ 0.952   ┆ 14.088    ┆ 20.125           ┆ null     │\n",
       "│ std        ┆ 6.411   ┆ 0.214   ┆ 2.624     ┆ 4.115            ┆ null     │\n",
       "│ min        ┆ 49.000  ┆ 0.000   ┆ 4.000     ┆ 2.000            ┆ abnormal │\n",
       "│ 50%        ┆ 73.000  ┆ 1.000   ┆ 14.000    ┆ 20.000           ┆ null     │\n",
       "│ max        ┆ 89.000  ┆ 1.000   ┆ 25.000    ┆ 30.000           ┆ normal   │\n",
       "└────────────┴─────────┴─────────┴───────────┴──────────────────┴──────────┘"
      ]
     },
     "metadata": {},
     "output_type": "display_data"
    },
    {
     "data": {
      "text/html": [
       "<div><style>\n",
       ".dataframe > thead > tr,\n",
       ".dataframe > tbody > tr {\n",
       "  text-align: right;\n",
       "  white-space: pre-wrap;\n",
       "}\n",
       "</style>\n",
       "<small>shape: (5, 3)</small><table border=\"1\" class=\"dataframe\"><thead><tr><th>metric</th><th>mean</th><th>std</th></tr><tr><td>str</td><td>f64</td><td>f64</td></tr></thead><tbody><tr><td>&quot;Accuracy&quot;</td><td>0.596</td><td>0.028</td></tr><tr><td>&quot;Sensitivity&quot;</td><td>0.722</td><td>0.083</td></tr><tr><td>&quot;PPV&quot;</td><td>0.607</td><td>0.023</td></tr><tr><td>&quot;Specificity&quot;</td><td>0.448</td><td>0.089</td></tr><tr><td>&quot;NPV&quot;</td><td>0.582</td><td>0.050</td></tr></tbody></table></div>"
      ],
      "text/plain": [
       "shape: (5, 3)\n",
       "┌─────────────┬───────┬───────┐\n",
       "│ metric      ┆ mean  ┆ std   │\n",
       "│ ---         ┆ ---   ┆ ---   │\n",
       "│ str         ┆ f64   ┆ f64   │\n",
       "╞═════════════╪═══════╪═══════╡\n",
       "│ Accuracy    ┆ 0.596 ┆ 0.028 │\n",
       "│ Sensitivity ┆ 0.722 ┆ 0.083 │\n",
       "│ PPV         ┆ 0.607 ┆ 0.023 │\n",
       "│ Specificity ┆ 0.448 ┆ 0.089 │\n",
       "│ NPV         ┆ 0.582 ┆ 0.050 │\n",
       "└─────────────┴───────┴───────┘"
      ]
     },
     "metadata": {},
     "output_type": "display_data"
    },
    {
     "data": {
      "text/html": [
       "<div><style>\n",
       ".dataframe > thead > tr,\n",
       ".dataframe > tbody > tr {\n",
       "  text-align: right;\n",
       "  white-space: pre-wrap;\n",
       "}\n",
       "</style>\n",
       "<small>shape: (4, 5)</small><table border=\"1\" class=\"dataframe\"><thead><tr><th>feature</th><th>raw_coef_mean</th><th>raw_coef_std</th><th>odds_ratio_mean</th><th>odds_ratio_std</th></tr><tr><td>str</td><td>f64</td><td>f64</td><td>f64</td><td>f64</td></tr></thead><tbody><tr><td>&quot;age&quot;</td><td>-0.073</td><td>0.005</td><td>0.930</td><td>0.005</td></tr><tr><td>&quot;sex_m&quot;</td><td>0.303</td><td>0.188</td><td>1.376</td><td>0.228</td></tr><tr><td>&quot;education&quot;</td><td>-0.072</td><td>0.033</td><td>0.931</td><td>0.031</td></tr><tr><td>&quot;moca_total_score&quot;</td><td>0.066</td><td>0.021</td><td>1.068</td><td>0.023</td></tr></tbody></table></div>"
      ],
      "text/plain": [
       "shape: (4, 5)\n",
       "┌──────────────────┬───────────────┬──────────────┬─────────────────┬────────────────┐\n",
       "│ feature          ┆ raw_coef_mean ┆ raw_coef_std ┆ odds_ratio_mean ┆ odds_ratio_std │\n",
       "│ ---              ┆ ---           ┆ ---          ┆ ---             ┆ ---            │\n",
       "│ str              ┆ f64           ┆ f64          ┆ f64             ┆ f64            │\n",
       "╞══════════════════╪═══════════════╪══════════════╪═════════════════╪════════════════╡\n",
       "│ age              ┆ -0.073        ┆ 0.005        ┆ 0.930           ┆ 0.005          │\n",
       "│ sex_m            ┆ 0.303         ┆ 0.188        ┆ 1.376           ┆ 0.228          │\n",
       "│ education        ┆ -0.072        ┆ 0.033        ┆ 0.931           ┆ 0.031          │\n",
       "│ moca_total_score ┆ 0.066         ┆ 0.021        ┆ 1.068           ┆ 0.023          │\n",
       "└──────────────────┴───────────────┴──────────────┴─────────────────┴────────────────┘"
      ]
     },
     "metadata": {},
     "output_type": "display_data"
    },
    {
     "data": {
      "image/png": "[encoded data removed]",
      "text/plain": [
       "<Figure size 500x400 with 2 Axes>"
      ]
     },
     "metadata": {},
     "output_type": "display_data"
    }
   ],
   "source": [
    "_df = apet.select(\"age\", \"sex_m\", \"education\", \"moca_total_score\", \"apet\").drop_nulls()\n",
    "\n",
    "results = logistic_regression_metrics_with_coefs(\n",
    "    _df,\n",
    "    predictor_cols=[\"age\", \"sex_m\", \"education\", \"moca_total_score\"],\n",
    "    target_col=\"apet\",\n",
    ")\n",
    "\n",
    "dfs = results_to_polars_df(results)\n",
    "\n",
    "with pl.Config(set_float_precision=3):\n",
    "    display(_df.describe(percentiles=0.5))\n",
    "    display(dfs[\"metrics_df\"])\n",
    "    display(dfs[\"coefficients_df\"])\n",
    "\n",
    "plot_logistic_results_clean(results)"
   ]
  },
  {
   "cell_type": "code",
   "execution_count": 13,
   "metadata": {},
   "outputs": [
    {
     "data": {
      "text/html": [
       "<div><style>\n",
       ".dataframe > thead > tr,\n",
       ".dataframe > tbody > tr {\n",
       "  text-align: right;\n",
       "  white-space: pre-wrap;\n",
       "}\n",
       "</style>\n",
       "<small>shape: (7, 6)</small><table border=\"1\" class=\"dataframe\"><thead><tr><th>statistic</th><th>age</th><th>sex_m</th><th>education</th><th>cerad_rapid_forgetting</th><th>apet</th></tr><tr><td>str</td><td>f64</td><td>f64</td><td>f64</td><td>f64</td><td>str</td></tr></thead><tbody><tr><td>&quot;count&quot;</td><td>406.0</td><td>406.0</td><td>406.0</td><td>406.0</td><td>&quot;406&quot;</td></tr><tr><td>&quot;null_count&quot;</td><td>0.0</td><td>0.0</td><td>0.0</td><td>0.0</td><td>&quot;0&quot;</td></tr><tr><td>&quot;mean&quot;</td><td>71.7</td><td>1.0</td><td>14.0</td><td>1.2</td><td>null</td></tr><tr><td>&quot;std&quot;</td><td>6.5</td><td>0.2</td><td>2.6</td><td>1.4</td><td>null</td></tr><tr><td>&quot;min&quot;</td><td>41.0</td><td>0.0</td><td>4.0</td><td>0.0</td><td>&quot;abnormal&quot;</td></tr><tr><td>&quot;50%&quot;</td><td>72.0</td><td>1.0</td><td>14.0</td><td>1.0</td><td>null</td></tr><tr><td>&quot;max&quot;</td><td>89.0</td><td>1.0</td><td>25.0</td><td>8.0</td><td>&quot;normal&quot;</td></tr></tbody></table></div>"
      ],
      "text/plain": [
       "shape: (7, 6)\n",
       "┌────────────┬───────┬───────┬───────────┬────────────────────────┬──────────┐\n",
       "│ statistic  ┆ age   ┆ sex_m ┆ education ┆ cerad_rapid_forgetting ┆ apet     │\n",
       "│ ---        ┆ ---   ┆ ---   ┆ ---       ┆ ---                    ┆ ---      │\n",
       "│ str        ┆ f64   ┆ f64   ┆ f64       ┆ f64                    ┆ str      │\n",
       "╞════════════╪═══════╪═══════╪═══════════╪════════════════════════╪══════════╡\n",
       "│ count      ┆ 406.0 ┆ 406.0 ┆ 406.0     ┆ 406.0                  ┆ 406      │\n",
       "│ null_count ┆ 0.0   ┆ 0.0   ┆ 0.0       ┆ 0.0                    ┆ 0        │\n",
       "│ mean       ┆ 71.7  ┆ 1.0   ┆ 14.0      ┆ 1.2                    ┆ null     │\n",
       "│ std        ┆ 6.5   ┆ 0.2   ┆ 2.6       ┆ 1.4                    ┆ null     │\n",
       "│ min        ┆ 41.0  ┆ 0.0   ┆ 4.0       ┆ 0.0                    ┆ abnormal │\n",
       "│ 50%        ┆ 72.0  ┆ 1.0   ┆ 14.0      ┆ 1.0                    ┆ null     │\n",
       "│ max        ┆ 89.0  ┆ 1.0   ┆ 25.0      ┆ 8.0                    ┆ normal   │\n",
       "└────────────┴───────┴───────┴───────────┴────────────────────────┴──────────┘"
      ]
     },
     "metadata": {},
     "output_type": "display_data"
    },
    {
     "data": {
      "text/html": [
       "<div><style>\n",
       ".dataframe > thead > tr,\n",
       ".dataframe > tbody > tr {\n",
       "  text-align: right;\n",
       "  white-space: pre-wrap;\n",
       "}\n",
       "</style>\n",
       "<small>shape: (7, 6)</small><table border=\"1\" class=\"dataframe\"><thead><tr><th>statistic</th><th>age</th><th>sex_m</th><th>education</th><th>cerad_rapid_forgetting</th><th>apet</th></tr><tr><td>str</td><td>f64</td><td>f64</td><td>f64</td><td>f64</td><td>str</td></tr></thead><tbody><tr><td>&quot;count&quot;</td><td>406.000</td><td>406.000</td><td>406.000</td><td>406.000</td><td>&quot;406&quot;</td></tr><tr><td>&quot;null_count&quot;</td><td>0.000</td><td>0.000</td><td>0.000</td><td>0.000</td><td>&quot;0&quot;</td></tr><tr><td>&quot;mean&quot;</td><td>71.736</td><td>0.961</td><td>14.002</td><td>1.197</td><td>null</td></tr><tr><td>&quot;std&quot;</td><td>6.490</td><td>0.195</td><td>2.562</td><td>1.392</td><td>null</td></tr><tr><td>&quot;min&quot;</td><td>41.000</td><td>0.000</td><td>4.000</td><td>0.000</td><td>&quot;abnormal&quot;</td></tr><tr><td>&quot;50%&quot;</td><td>72.000</td><td>1.000</td><td>14.000</td><td>1.000</td><td>null</td></tr><tr><td>&quot;max&quot;</td><td>89.000</td><td>1.000</td><td>25.000</td><td>8.000</td><td>&quot;normal&quot;</td></tr></tbody></table></div>"
      ],
      "text/plain": [
       "shape: (7, 6)\n",
       "┌────────────┬─────────┬─────────┬───────────┬────────────────────────┬──────────┐\n",
       "│ statistic  ┆ age     ┆ sex_m   ┆ education ┆ cerad_rapid_forgetting ┆ apet     │\n",
       "│ ---        ┆ ---     ┆ ---     ┆ ---       ┆ ---                    ┆ ---      │\n",
       "│ str        ┆ f64     ┆ f64     ┆ f64       ┆ f64                    ┆ str      │\n",
       "╞════════════╪═════════╪═════════╪═══════════╪════════════════════════╪══════════╡\n",
       "│ count      ┆ 406.000 ┆ 406.000 ┆ 406.000   ┆ 406.000                ┆ 406      │\n",
       "│ null_count ┆ 0.000   ┆ 0.000   ┆ 0.000     ┆ 0.000                  ┆ 0        │\n",
       "│ mean       ┆ 71.736  ┆ 0.961   ┆ 14.002    ┆ 1.197                  ┆ null     │\n",
       "│ std        ┆ 6.490   ┆ 0.195   ┆ 2.562     ┆ 1.392                  ┆ null     │\n",
       "│ min        ┆ 41.000  ┆ 0.000   ┆ 4.000     ┆ 0.000                  ┆ abnormal │\n",
       "│ 50%        ┆ 72.000  ┆ 1.000   ┆ 14.000    ┆ 1.000                  ┆ null     │\n",
       "│ max        ┆ 89.000  ┆ 1.000   ┆ 25.000    ┆ 8.000                  ┆ normal   │\n",
       "└────────────┴─────────┴─────────┴───────────┴────────────────────────┴──────────┘"
      ]
     },
     "metadata": {},
     "output_type": "display_data"
    },
    {
     "data": {
      "text/html": [
       "<div><style>\n",
       ".dataframe > thead > tr,\n",
       ".dataframe > tbody > tr {\n",
       "  text-align: right;\n",
       "  white-space: pre-wrap;\n",
       "}\n",
       "</style>\n",
       "<small>shape: (5, 3)</small><table border=\"1\" class=\"dataframe\"><thead><tr><th>metric</th><th>mean</th><th>std</th></tr><tr><td>str</td><td>f64</td><td>f64</td></tr></thead><tbody><tr><td>&quot;Accuracy&quot;</td><td>0.611</td><td>0.056</td></tr><tr><td>&quot;Sensitivity&quot;</td><td>0.610</td><td>0.102</td></tr><tr><td>&quot;PPV&quot;</td><td>0.603</td><td>0.052</td></tr><tr><td>&quot;Specificity&quot;</td><td>0.611</td><td>0.070</td></tr><tr><td>&quot;NPV&quot;</td><td>0.622</td><td>0.066</td></tr></tbody></table></div>"
      ],
      "text/plain": [
       "shape: (5, 3)\n",
       "┌─────────────┬───────┬───────┐\n",
       "│ metric      ┆ mean  ┆ std   │\n",
       "│ ---         ┆ ---   ┆ ---   │\n",
       "│ str         ┆ f64   ┆ f64   │\n",
       "╞═════════════╪═══════╪═══════╡\n",
       "│ Accuracy    ┆ 0.611 ┆ 0.056 │\n",
       "│ Sensitivity ┆ 0.610 ┆ 0.102 │\n",
       "│ PPV         ┆ 0.603 ┆ 0.052 │\n",
       "│ Specificity ┆ 0.611 ┆ 0.070 │\n",
       "│ NPV         ┆ 0.622 ┆ 0.066 │\n",
       "└─────────────┴───────┴───────┘"
      ]
     },
     "metadata": {},
     "output_type": "display_data"
    },
    {
     "data": {
      "text/html": [
       "<div><style>\n",
       ".dataframe > thead > tr,\n",
       ".dataframe > tbody > tr {\n",
       "  text-align: right;\n",
       "  white-space: pre-wrap;\n",
       "}\n",
       "</style>\n",
       "<small>shape: (4, 5)</small><table border=\"1\" class=\"dataframe\"><thead><tr><th>feature</th><th>raw_coef_mean</th><th>raw_coef_std</th><th>odds_ratio_mean</th><th>odds_ratio_std</th></tr><tr><td>str</td><td>f64</td><td>f64</td><td>f64</td><td>f64</td></tr></thead><tbody><tr><td>&quot;age&quot;</td><td>-0.079</td><td>0.010</td><td>0.924</td><td>0.009</td></tr><tr><td>&quot;sex_m&quot;</td><td>0.118</td><td>0.221</td><td>1.152</td><td>0.241</td></tr><tr><td>&quot;education&quot;</td><td>-0.059</td><td>0.009</td><td>0.943</td><td>0.008</td></tr><tr><td>&quot;cerad_rapid_forgetting&quot;</td><td>0.029</td><td>0.041</td><td>1.030</td><td>0.044</td></tr></tbody></table></div>"
      ],
      "text/plain": [
       "shape: (4, 5)\n",
       "┌────────────────────────┬───────────────┬──────────────┬─────────────────┬────────────────┐\n",
       "│ feature                ┆ raw_coef_mean ┆ raw_coef_std ┆ odds_ratio_mean ┆ odds_ratio_std │\n",
       "│ ---                    ┆ ---           ┆ ---          ┆ ---             ┆ ---            │\n",
       "│ str                    ┆ f64           ┆ f64          ┆ f64             ┆ f64            │\n",
       "╞════════════════════════╪═══════════════╪══════════════╪═════════════════╪════════════════╡\n",
       "│ age                    ┆ -0.079        ┆ 0.010        ┆ 0.924           ┆ 0.009          │\n",
       "│ sex_m                  ┆ 0.118         ┆ 0.221        ┆ 1.152           ┆ 0.241          │\n",
       "│ education              ┆ -0.059        ┆ 0.009        ┆ 0.943           ┆ 0.008          │\n",
       "│ cerad_rapid_forgetting ┆ 0.029         ┆ 0.041        ┆ 1.030           ┆ 0.044          │\n",
       "└────────────────────────┴───────────────┴──────────────┴─────────────────┴────────────────┘"
      ]
     },
     "metadata": {},
     "output_type": "display_data"
    },
    {
     "data": {
      "image/png": "[encoded data removed]",
      "text/plain": [
       "<Figure size 500x400 with 2 Axes>"
      ]
     },
     "metadata": {},
     "output_type": "display_data"
    }
   ],
   "source": [
    "_df = apet.select(\"age\", \"sex_m\", \"education\", \"cerad_rapid_forgetting\", \"apet\").drop_nulls()\n",
    "\n",
    "with pl.Config(set_float_precision=1):\n",
    "    display(_df.describe(percentiles=0.5))\n",
    "\n",
    "results = logistic_regression_metrics_with_coefs(\n",
    "    _df,\n",
    "    predictor_cols=[\"age\", \"sex_m\", \"education\", \"cerad_rapid_forgetting\"],\n",
    "    target_col=\"apet\",\n",
    ")\n",
    "\n",
    "dfs = results_to_polars_df(results)\n",
    "\n",
    "with pl.Config(set_float_precision=3):\n",
    "    display(_df.describe(percentiles=0.5))\n",
    "    display(dfs[\"metrics_df\"])\n",
    "    display(dfs[\"coefficients_df\"])\n",
    "\n",
    "\n",
    "plot_logistic_results_clean(results)"
   ]
  },
  {
   "cell_type": "code",
   "execution_count": 14,
   "metadata": {},
   "outputs": [],
   "source": [
    "rf_words = apet.select(cs.contains('word'))"
   ]
  },
  {
   "cell_type": "code",
   "execution_count": 15,
   "metadata": {},
   "outputs": [
    {
     "data": {
      "text/html": [
       "<div><style>\n",
       ".dataframe > thead > tr,\n",
       ".dataframe > tbody > tr {\n",
       "  text-align: right;\n",
       "  white-space: pre-wrap;\n",
       "}\n",
       "</style>\n",
       "<small>shape: (7, 7)</small><table border=\"1\" class=\"dataframe\"><thead><tr><th>statistic</th><th>age</th><th>sex_m</th><th>education</th><th>cerad_rapid_forgetting</th><th>apet</th><th>rf_total_instances</th></tr><tr><td>str</td><td>f64</td><td>f64</td><td>f64</td><td>f64</td><td>str</td><td>f64</td></tr></thead><tbody><tr><td>&quot;count&quot;</td><td>406.0</td><td>406.0</td><td>406.0</td><td>406.0</td><td>&quot;406&quot;</td><td>406.0</td></tr><tr><td>&quot;null_count&quot;</td><td>0.0</td><td>0.0</td><td>0.0</td><td>0.0</td><td>&quot;0&quot;</td><td>0.0</td></tr><tr><td>&quot;mean&quot;</td><td>71.7</td><td>1.0</td><td>14.0</td><td>1.2</td><td>null</td><td>1.4</td></tr><tr><td>&quot;std&quot;</td><td>6.5</td><td>0.2</td><td>2.6</td><td>1.4</td><td>null</td><td>2.3</td></tr><tr><td>&quot;min&quot;</td><td>41.0</td><td>0.0</td><td>4.0</td><td>0.0</td><td>&quot;abnormal&quot;</td><td>0.0</td></tr><tr><td>&quot;50%&quot;</td><td>72.0</td><td>1.0</td><td>14.0</td><td>1.0</td><td>null</td><td>0.0</td></tr><tr><td>&quot;max&quot;</td><td>89.0</td><td>1.0</td><td>25.0</td><td>8.0</td><td>&quot;normal&quot;</td><td>14.0</td></tr></tbody></table></div>"
      ],
      "text/plain": [
       "shape: (7, 7)\n",
       "┌────────────┬───────┬───────┬───────────┬────────────────────────┬──────────┬────────────────────┐\n",
       "│ statistic  ┆ age   ┆ sex_m ┆ education ┆ cerad_rapid_forgetting ┆ apet     ┆ rf_total_instances │\n",
       "│ ---        ┆ ---   ┆ ---   ┆ ---       ┆ ---                    ┆ ---      ┆ ---                │\n",
       "│ str        ┆ f64   ┆ f64   ┆ f64       ┆ f64                    ┆ str      ┆ f64                │\n",
       "╞════════════╪═══════╪═══════╪═══════════╪════════════════════════╪══════════╪════════════════════╡\n",
       "│ count      ┆ 406.0 ┆ 406.0 ┆ 406.0     ┆ 406.0                  ┆ 406      ┆ 406.0              │\n",
       "│ null_count ┆ 0.0   ┆ 0.0   ┆ 0.0       ┆ 0.0                    ┆ 0        ┆ 0.0                │\n",
       "│ mean       ┆ 71.7  ┆ 1.0   ┆ 14.0      ┆ 1.2                    ┆ null     ┆ 1.4                │\n",
       "│ std        ┆ 6.5   ┆ 0.2   ┆ 2.6       ┆ 1.4                    ┆ null     ┆ 2.3                │\n",
       "│ min        ┆ 41.0  ┆ 0.0   ┆ 4.0       ┆ 0.0                    ┆ abnormal ┆ 0.0                │\n",
       "│ 50%        ┆ 72.0  ┆ 1.0   ┆ 14.0      ┆ 1.0                    ┆ null     ┆ 0.0                │\n",
       "│ max        ┆ 89.0  ┆ 1.0   ┆ 25.0      ┆ 8.0                    ┆ normal   ┆ 14.0               │\n",
       "└────────────┴───────┴───────┴───────────┴────────────────────────┴──────────┴────────────────────┘"
      ]
     },
     "metadata": {},
     "output_type": "display_data"
    },
    {
     "data": {
      "text/html": [
       "<div><style>\n",
       ".dataframe > thead > tr,\n",
       ".dataframe > tbody > tr {\n",
       "  text-align: right;\n",
       "  white-space: pre-wrap;\n",
       "}\n",
       "</style>\n",
       "<small>shape: (7, 7)</small><table border=\"1\" class=\"dataframe\"><thead><tr><th>statistic</th><th>age</th><th>sex_m</th><th>education</th><th>cerad_rapid_forgetting</th><th>apet</th><th>rf_total_instances</th></tr><tr><td>str</td><td>f64</td><td>f64</td><td>f64</td><td>f64</td><td>str</td><td>f64</td></tr></thead><tbody><tr><td>&quot;count&quot;</td><td>406.000</td><td>406.000</td><td>406.000</td><td>406.000</td><td>&quot;406&quot;</td><td>406.000</td></tr><tr><td>&quot;null_count&quot;</td><td>0.000</td><td>0.000</td><td>0.000</td><td>0.000</td><td>&quot;0&quot;</td><td>0.000</td></tr><tr><td>&quot;mean&quot;</td><td>71.736</td><td>0.961</td><td>14.002</td><td>1.197</td><td>null</td><td>1.355</td></tr><tr><td>&quot;std&quot;</td><td>6.490</td><td>0.195</td><td>2.562</td><td>1.392</td><td>null</td><td>2.306</td></tr><tr><td>&quot;min&quot;</td><td>41.000</td><td>0.000</td><td>4.000</td><td>0.000</td><td>&quot;abnormal&quot;</td><td>0.000</td></tr><tr><td>&quot;50%&quot;</td><td>72.000</td><td>1.000</td><td>14.000</td><td>1.000</td><td>null</td><td>0.000</td></tr><tr><td>&quot;max&quot;</td><td>89.000</td><td>1.000</td><td>25.000</td><td>8.000</td><td>&quot;normal&quot;</td><td>14.000</td></tr></tbody></table></div>"
      ],
      "text/plain": [
       "shape: (7, 7)\n",
       "┌────────────┬─────────┬─────────┬───────────┬─────────────────────┬──────────┬────────────────────┐\n",
       "│ statistic  ┆ age     ┆ sex_m   ┆ education ┆ cerad_rapid_forgett ┆ apet     ┆ rf_total_instances │\n",
       "│ ---        ┆ ---     ┆ ---     ┆ ---       ┆ ing                 ┆ ---      ┆ ---                │\n",
       "│ str        ┆ f64     ┆ f64     ┆ f64       ┆ ---                 ┆ str      ┆ f64                │\n",
       "│            ┆         ┆         ┆           ┆ f64                 ┆          ┆                    │\n",
       "╞════════════╪═════════╪═════════╪═══════════╪═════════════════════╪══════════╪════════════════════╡\n",
       "│ count      ┆ 406.000 ┆ 406.000 ┆ 406.000   ┆ 406.000             ┆ 406      ┆ 406.000            │\n",
       "│ null_count ┆ 0.000   ┆ 0.000   ┆ 0.000     ┆ 0.000               ┆ 0        ┆ 0.000              │\n",
       "│ mean       ┆ 71.736  ┆ 0.961   ┆ 14.002    ┆ 1.197               ┆ null     ┆ 1.355              │\n",
       "│ std        ┆ 6.490   ┆ 0.195   ┆ 2.562     ┆ 1.392               ┆ null     ┆ 2.306              │\n",
       "│ min        ┆ 41.000  ┆ 0.000   ┆ 4.000     ┆ 0.000               ┆ abnormal ┆ 0.000              │\n",
       "│ 50%        ┆ 72.000  ┆ 1.000   ┆ 14.000    ┆ 1.000               ┆ null     ┆ 0.000              │\n",
       "│ max        ┆ 89.000  ┆ 1.000   ┆ 25.000    ┆ 8.000               ┆ normal   ┆ 14.000             │\n",
       "└────────────┴─────────┴─────────┴───────────┴─────────────────────┴──────────┴────────────────────┘"
      ]
     },
     "metadata": {},
     "output_type": "display_data"
    },
    {
     "data": {
      "text/html": [
       "<div><style>\n",
       ".dataframe > thead > tr,\n",
       ".dataframe > tbody > tr {\n",
       "  text-align: right;\n",
       "  white-space: pre-wrap;\n",
       "}\n",
       "</style>\n",
       "<small>shape: (5, 3)</small><table border=\"1\" class=\"dataframe\"><thead><tr><th>metric</th><th>mean</th><th>std</th></tr><tr><td>str</td><td>f64</td><td>f64</td></tr></thead><tbody><tr><td>&quot;Accuracy&quot;</td><td>0.608</td><td>0.051</td></tr><tr><td>&quot;Sensitivity&quot;</td><td>0.590</td><td>0.072</td></tr><tr><td>&quot;PPV&quot;</td><td>0.609</td><td>0.060</td></tr><tr><td>&quot;Specificity&quot;</td><td>0.626</td><td>0.094</td></tr><tr><td>&quot;NPV&quot;</td><td>0.611</td><td>0.048</td></tr></tbody></table></div>"
      ],
      "text/plain": [
       "shape: (5, 3)\n",
       "┌─────────────┬───────┬───────┐\n",
       "│ metric      ┆ mean  ┆ std   │\n",
       "│ ---         ┆ ---   ┆ ---   │\n",
       "│ str         ┆ f64   ┆ f64   │\n",
       "╞═════════════╪═══════╪═══════╡\n",
       "│ Accuracy    ┆ 0.608 ┆ 0.051 │\n",
       "│ Sensitivity ┆ 0.590 ┆ 0.072 │\n",
       "│ PPV         ┆ 0.609 ┆ 0.060 │\n",
       "│ Specificity ┆ 0.626 ┆ 0.094 │\n",
       "│ NPV         ┆ 0.611 ┆ 0.048 │\n",
       "└─────────────┴───────┴───────┘"
      ]
     },
     "metadata": {},
     "output_type": "display_data"
    },
    {
     "data": {
      "text/html": [
       "<div><style>\n",
       ".dataframe > thead > tr,\n",
       ".dataframe > tbody > tr {\n",
       "  text-align: right;\n",
       "  white-space: pre-wrap;\n",
       "}\n",
       "</style>\n",
       "<small>shape: (4, 5)</small><table border=\"1\" class=\"dataframe\"><thead><tr><th>feature</th><th>raw_coef_mean</th><th>raw_coef_std</th><th>odds_ratio_mean</th><th>odds_ratio_std</th></tr><tr><td>str</td><td>f64</td><td>f64</td><td>f64</td><td>f64</td></tr></thead><tbody><tr><td>&quot;age&quot;</td><td>-0.080</td><td>0.009</td><td>0.923</td><td>0.009</td></tr><tr><td>&quot;sex_m&quot;</td><td>0.093</td><td>0.237</td><td>1.128</td><td>0.254</td></tr><tr><td>&quot;education&quot;</td><td>-0.058</td><td>0.009</td><td>0.943</td><td>0.008</td></tr><tr><td>&quot;rf_total_instances&quot;</td><td>-0.033</td><td>0.040</td><td>0.969</td><td>0.040</td></tr></tbody></table></div>"
      ],
      "text/plain": [
       "shape: (4, 5)\n",
       "┌────────────────────┬───────────────┬──────────────┬─────────────────┬────────────────┐\n",
       "│ feature            ┆ raw_coef_mean ┆ raw_coef_std ┆ odds_ratio_mean ┆ odds_ratio_std │\n",
       "│ ---                ┆ ---           ┆ ---          ┆ ---             ┆ ---            │\n",
       "│ str                ┆ f64           ┆ f64          ┆ f64             ┆ f64            │\n",
       "╞════════════════════╪═══════════════╪══════════════╪═════════════════╪════════════════╡\n",
       "│ age                ┆ -0.080        ┆ 0.009        ┆ 0.923           ┆ 0.009          │\n",
       "│ sex_m              ┆ 0.093         ┆ 0.237        ┆ 1.128           ┆ 0.254          │\n",
       "│ education          ┆ -0.058        ┆ 0.009        ┆ 0.943           ┆ 0.008          │\n",
       "│ rf_total_instances ┆ -0.033        ┆ 0.040        ┆ 0.969           ┆ 0.040          │\n",
       "└────────────────────┴───────────────┴──────────────┴─────────────────┴────────────────┘"
      ]
     },
     "metadata": {},
     "output_type": "display_data"
    },
    {
     "data": {
      "image/png": "[encoded data removed]",
      "text/plain": [
       "<Figure size 500x400 with 2 Axes>"
      ]
     },
     "metadata": {},
     "output_type": "display_data"
    }
   ],
   "source": [
    "word_cols = apet.select(cs.contains(\"word\")).columns\n",
    "\n",
    "_df = apet.select(\n",
    "    \"age\",\n",
    "    \"sex_m\",\n",
    "    \"education\",\n",
    "    \"cerad_rapid_forgetting\",\n",
    "    \"apet\",\n",
    "    pl.sum_horizontal(word_cols).alias(\"rf_total_instances\"),\n",
    ").drop_nulls()\n",
    "\n",
    "with pl.Config(set_float_precision=1):\n",
    "    display(_df.describe(percentiles=0.5))\n",
    "\n",
    "results = logistic_regression_metrics_with_coefs(\n",
    "    _df,\n",
    "    predictor_cols=[\"age\", \"sex_m\", \"education\", 'rf_total_instances'],\n",
    "    target_col=\"apet\",\n",
    ")\n",
    "\n",
    "dfs = results_to_polars_df(results)\n",
    "\n",
    "with pl.Config(set_float_precision=3):\n",
    "    display(_df.describe(percentiles=0.5))\n",
    "    display(dfs[\"metrics_df\"])\n",
    "    display(dfs[\"coefficients_df\"])\n",
    "\n",
    "\n",
    "plot_logistic_results_clean(results)"
   ]
  },
  {
   "cell_type": "code",
   "execution_count": 19,
   "metadata": {},
   "outputs": [
    {
     "data": {
      "text/html": [
       "<div><style>\n",
       ".dataframe > thead > tr,\n",
       ".dataframe > tbody > tr {\n",
       "  text-align: right;\n",
       "  white-space: pre-wrap;\n",
       "}\n",
       "</style>\n",
       "<small>shape: (2, 1)</small><table border=\"1\" class=\"dataframe\"><thead><tr><th>apet</th></tr><tr><td>struct[2]</td></tr></thead><tbody><tr><td>{&quot;abnormal&quot;,228}</td></tr><tr><td>{&quot;normal&quot;,247}</td></tr></tbody></table></div>"
      ],
      "text/plain": [
       "shape: (2, 1)\n",
       "┌──────────────────┐\n",
       "│ apet             │\n",
       "│ ---              │\n",
       "│ struct[2]        │\n",
       "╞══════════════════╡\n",
       "│ {\"abnormal\",228} │\n",
       "│ {\"normal\",247}   │\n",
       "└──────────────────┘"
      ]
     },
     "execution_count": 19,
     "metadata": {},
     "output_type": "execute_result"
    }
   ],
   "source": [
    "apet.select(pl.col('apet').value_counts())"
   ]
  }
 ],
 "metadata": {
  "kernelspec": {
   "display_name": ".venv",
   "language": "python",
   "name": "python3"
  },
  "language_info": {
   "codemirror_mode": {
    "name": "ipython",
    "version": 3
   },
   "file_extension": ".py",
   "mimetype": "text/x-python",
   "name": "python",
   "nbconvert_exporter": "python",
   "pygments_lexer": "ipython3",
   "version": "3.12.4"
  }
 },
 "nbformat": 4,
 "nbformat_minor": 2
}
